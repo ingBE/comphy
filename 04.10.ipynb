{
 "cells": [
  {
   "cell_type": "code",
   "execution_count": 16,
   "metadata": {},
   "outputs": [],
   "source": [
    "import numpy as np\n",
    "import matplotlib.pyplot as plt"
   ]
  },
  {
   "cell_type": "code",
   "execution_count": 17,
   "metadata": {},
   "outputs": [],
   "source": [
    "def mapli(f,aa):\n",
    "    return list(map(f,x))\n",
    "\n",
    "def mapar(f,aa):\n",
    "    return np.array(list(map(f,x)))"
   ]
  },
  {
   "cell_type": "code",
   "execution_count": 18,
   "metadata": {},
   "outputs": [],
   "source": [
    "## module swap\n",
    "''' swapRows(v,i,j).\n",
    "          Swaps rows i and j of a vector or matrix [v].\n",
    "          swapCols(v,i,j).\n",
    "          Swaps columns of matrix [v].\n",
    "'''\n",
    "def swapRows(v,i,j):\n",
    "    if len(v.shape) == 1:\n",
    "        v[i],v[j] = v[j],v[i]\n",
    "    else:\n",
    "        v[[i,j],:] = v[[j,i],:]\n",
    "\n",
    "def swapCols(v,i,j):\n",
    "    v[:,[i,j]] = v[:,[j,i]]\n",
    "\n",
    "\n",
    "def err(string):\n",
    "    print(string)\n",
    "    input('Press return to exit')\n",
    "    sys.exit()\n",
    "    \n",
    "\n",
    "## module gaussPivot\n",
    "''' x = gaussPivot(a,b,tol=1.0e-12).\n",
    "          Solves [a]{x} = {b} by Gauss elimination with\n",
    "          scaled row pivoting\n",
    "'''\n",
    "import numpy as np\n",
    "#import swap\n",
    "#import error\n",
    "def gaussPivot(a,b,tol=1.0e-12):\n",
    "    n = len(b)\n",
    "  # Set up scale factors\n",
    "    s = np.zeros(n)\n",
    "    for i in range(n):\n",
    "        s[i] = max(np.abs(a[i,:]))\n",
    "    for k in range(0,n-1):\n",
    "      # Row interchange, if needed\n",
    "        p = np.argmax(np.abs(a[k:n,k])/s[k:n]) + k\n",
    "        if abs(a[p,k]) < tol: error.err('Matrix is singular')\n",
    "        if p != k:\n",
    "            swapRows(b,k,p)\n",
    "            swapRows(s,k,p)\n",
    "            swapRows(a,k,p)\n",
    "      # Elimination\n",
    "        for i in range(k+1,n):\n",
    "            if a[i,k] != 0.0:\n",
    "                lam = a[i,k]/a[k,k]\n",
    "                a[i,k+1:n] = a[i,k+1:n] - lam*a[k,k+1:n]\n",
    "                b[i] = b[i] - lam*b[k]\n",
    "    if abs(a[n-1,n-1]) < tol: error.err('Matrix is singular')\n",
    "  # Back substitution\n",
    "    b[n-1] = b[n-1]/a[n-1,n-1]\n",
    "    for k in range(n-2,-1,-1):\n",
    "        b[k] = (b[k] - np.dot(a[k,k+1:n],b[k+1:n]))/a[k,k]\n",
    "    return b\n",
    "\n",
    "\n",
    "\n",
    "## module polyFit\n",
    "'''  c = polyFit(xData,yData,m).\n",
    "    Returns coefficients of the polynomial\n",
    "    p(x) = c[0] + c[1]x + c[2]xˆ2 +...+ c[m]xˆm\n",
    "    that fits the specified data in the least\n",
    "    squares sense.\n",
    "    sigma = stdDev(c,xData,yData).\n",
    "    Computes the std. deviation between p(x)\n",
    "    and the data.\n",
    "''' \n",
    "import numpy as np\n",
    "import math\n",
    "#from gaussPivot import *\n",
    "def polyFit(xData,yData,m):\n",
    "    a = np.zeros((m+1,m+1))\n",
    "    b = np.zeros(m+1)\n",
    "    s = np.zeros(2*m+1)\n",
    "    for i in range(len(xData)):\n",
    "        temp = yData[i]\n",
    "        for j in range(m+1):\n",
    "            b[j] = b[j] + temp\n",
    "            temp = temp*xData[i]\n",
    "        temp = 1.0\n",
    "        for j in range(2*m+1):\n",
    "            s[j] = s[j] + temp\n",
    "            temp = temp*xData[i]\n",
    "    \n",
    "    \n",
    "    for i in range(m+1):\n",
    "        for j in range(m+1):\n",
    "            a[i,j] = s[i+j]\n",
    "    return gaussPivot(a,b)\n",
    "\n",
    "\n",
    "def stdDev(c,xData,yData):\n",
    "    def evalPoly(c,x):\n",
    "        m = len(c) - 1\n",
    "        p = c[m]\n",
    "        for j in range(m):\n",
    "            p = p*x + c[m-j-1]\n",
    "        return p\n",
    "    \n",
    "    n = len(xData) - 1\n",
    "    m = len(c) - 1\n",
    "    sigma = 0.0\n",
    "    for i in range(n+1):\n",
    "        p = evalPoly(c,xData[i])\n",
    "        sigma = sigma + (yData[i] - p)**2\n",
    "    sigma = math.sqrt(sigma/(n - m))\n",
    "    return sigma\n",
    "\n",
    "\n",
    "\n",
    "## module plotPoly\n",
    "''' plotPoly(xData,yData,coeff,xlab=’x’,ylab=’y’)\n",
    "    Plots data points and the fitting\n",
    "    polynomial defined by its coefficient\n",
    "    array coeff = [a0, a1. ...]\n",
    "    xlab and ylab are optional axis labels\n",
    "'''\n",
    "import numpy as np\n",
    "import matplotlib.pyplot as plt\n",
    "def plotPoly(xData,yData,coeff,xlab='x',ylab='y'):\n",
    "    m = len(coeff)\n",
    "    x1 = min(xData)\n",
    "    x2 = max(xData)\n",
    "    dx = (x2 - x1)/20.0\n",
    "    x = np.arange(x1,x2 + dx/10.0,dx)\n",
    "    y = np.zeros((len(x)))*1.0\n",
    "    for i in range(m):\n",
    "        y = y + coeff[i]*x**i\n",
    "\n",
    "    plt.plot(xData,yData,'o',x,y,'-')\n",
    "    plt.xlabel(xlab); plt.ylabel(ylab)\n",
    "    plt.grid (True)\n",
    "    plt.show()"
   ]
  },
  {
   "cell_type": "code",
   "execution_count": 29,
   "metadata": {
    "scrolled": false
   },
   "outputs": [
    {
     "data": {
      "image/png": "[encoded data removed]",
      "text/plain": [
       "<Figure size 1080x720 with 1 Axes>"
      ]
     },
     "metadata": {
      "needs_background": "light"
     },
     "output_type": "display_data"
    }
   ],
   "source": [
    "## Fitting Linear Forms\n",
    "## Use polyFit(xData,yData,m)\n",
    "## x   0.15   2.30   3.15   4.85   6.25   7.95\n",
    "## y   4.79867  4.49013         4.2243   3.47313   2.66674  1.51909\n",
    "\n",
    "xar = np.array([0.15,2.30,3.15,4.85,6.25,7.95])\n",
    "yar = np.array([4.79867,4.49013,4.2243,3.47313,2.66674,1.51909])\n",
    "\n",
    "x = np.linspace(max(xar),min(xar),100)\n",
    "y = []\n",
    "\n",
    "def f(x,m):\n",
    "    c = polyFit(xar,yar,m)\n",
    "    p = 0\n",
    "    for i in range(len(c)):\n",
    "        p += c[i]*(x**i)\n",
    "    return p\n",
    "\n",
    "plt.figure(figsize=[15,10])\n",
    "plt.xlim(-0.5,8.5)\n",
    "plt.ylim(0,6)\n",
    "\n",
    "plt.plot(xar,yar,'o')\n",
    "\n",
    "y = []\n",
    "for m in range(6):\n",
    "    y.append(mapar(lambda x:f(x,m),x))\n",
    "    plt.plot(x,y[m],'-',label = 'm = '+str(m))\n",
    "\n",
    "plt.legend()\n",
    "plt.show()"
   ]
  },
  {
   "cell_type": "code",
   "execution_count": 30,
   "metadata": {},
   "outputs": [],
   "source": [
    "## Fitting a Straight Line, m = 1\n",
    "## xData, yData\n",
    "\n",
    "# S(a,b)\n",
    "def lineFit(xData,yData):\n",
    "    n = len(xData)\n",
    "    xbar, ybar = sum(xData)/n, sum(yData)/n\n",
    "\n",
    "    # b=b0/b1\n",
    "    b0, b1 = 0, 0\n",
    "    for i in range(n):\n",
    "        b0 += yData[i]*(xData[i]-xbar)\n",
    "        b1 += xData[i]*(xData[i]-xbar)\n",
    "    b = b0/b1\n",
    "    a = ybar - xbar*b\n",
    "    \n",
    "    return a,b"
   ]
  },
  {
   "cell_type": "code",
   "execution_count": 31,
   "metadata": {},
   "outputs": [
    {
     "data": {
      "text/plain": [
       "(5.2897069095959335, -0.42864833499292493)"
      ]
     },
     "execution_count": 31,
     "metadata": {},
     "output_type": "execute_result"
    }
   ],
   "source": [
    "lineFit(xar,yar)"
   ]
  },
  {
   "cell_type": "code",
   "execution_count": 32,
   "metadata": {},
   "outputs": [
    {
     "data": {
      "text/plain": [
       "array([ 5.28970691, -0.42864833])"
      ]
     },
     "execution_count": 32,
     "metadata": {},
     "output_type": "execute_result"
    }
   ],
   "source": [
    "polyFit(xar,yar,1)"
   ]
  },
  {
   "cell_type": "code",
   "execution_count": 33,
   "metadata": {},
   "outputs": [
    {
     "name": "stdout",
     "output_type": "stream",
     "text": [
      " lineFit: (5.2897069095959335, -0.42864833499292493) \n",
      "polyFit [ 5.28970691 -0.42864833]\n"
     ]
    }
   ],
   "source": [
    "print(' lineFit:',lineFit(xar,yar),'\\npolyFit',polyFit(xar,yar,1))"
   ]
  },
  {
   "cell_type": "code",
   "execution_count": 37,
   "metadata": {},
   "outputs": [
    {
     "data": {
      "image/png": "[encoded data removed]",
      "text/plain": [
       "<Figure size 432x288 with 1 Axes>"
      ]
     },
     "metadata": {
      "needs_background": "light"
     },
     "output_type": "display_data"
    }
   ],
   "source": [
    "xar = np.array([1,2,3,4])\n",
    "yar = np.array([0.9,2,3.1,3.9])\n",
    "x = np.linspace(max(xar),min(xar),100)\n",
    "c = lineFit(xar,yar)\n",
    "d = polyFit(xar,yar,1)\n",
    "y = mapar(lambda x:c[0] + c[1]*x,xar)\n",
    "y1 = mapar(lambda x:d[0] + d[1]*x,xar)\n",
    "\n",
    "plt.plot(xar,yar,'o',x,y,'-',x,y1,'-')\n",
    "plt.legend(['Input','lineFit','polyFit'])\n",
    "plt.show()"
   ]
  }
 ],
 "metadata": {
  "kernelspec": {
   "display_name": "Python 3",
   "language": "python",
   "name": "python3"
  },
  "language_info": {
   "codemirror_mode": {
    "name": "ipython",
    "version": 3
   },
   "file_extension": ".py",
   "mimetype": "text/x-python",
   "name": "python",
   "nbconvert_exporter": "python",
   "pygments_lexer": "ipython3",
   "version": "3.6.8"
  }
 },
 "nbformat": 4,
 "nbformat_minor": 2
}
