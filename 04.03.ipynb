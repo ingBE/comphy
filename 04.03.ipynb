{
 "cells": [
  {
   "cell_type": "code",
   "execution_count": 37,
   "metadata": {},
   "outputs": [],
   "source": [
    "import numpy as np\n",
    "import matplotlib.pyplot as plt"
   ]
  },
  {
   "cell_type": "code",
   "execution_count": 2,
   "metadata": {},
   "outputs": [],
   "source": [
    "# Lagrange's Method"
   ]
  },
  {
   "cell_type": "code",
   "execution_count": 56,
   "metadata": {},
   "outputs": [],
   "source": [
    "# x = 0  2\n",
    "# y = 7 11\n",
    "\n",
    "x0 = 0\n",
    "x1 = 2\n",
    "\n",
    "y0 = 7\n",
    "y1 = 11\n",
    "\n",
    "x  = 1\n",
    "l0 = ((x - x1) / (x0 - x1))\n",
    "l1 = ((x - x0) / (x1 - x0))\n",
    "\n",
    "y = y0*l0 + y1*l1"
   ]
  },
  {
   "cell_type": "code",
   "execution_count": 57,
   "metadata": {},
   "outputs": [
    {
     "data": {
      "text/plain": [
       "9.0"
      ]
     },
     "execution_count": 57,
     "metadata": {},
     "output_type": "execute_result"
    }
   ],
   "source": [
    "y"
   ]
  },
  {
   "cell_type": "code",
   "execution_count": 88,
   "metadata": {},
   "outputs": [
    {
     "name": "stdout",
     "output_type": "stream",
     "text": [
      "4.0\n"
     ]
    }
   ],
   "source": [
    "# x = 0  2  3\n",
    "# y = 7 11 28\n",
    "\n",
    "xvar = np.array([ 0., 2., 3.])\n",
    "yvar = np.array([ 7.,11.,28.])\n",
    "\n",
    "n = 3\n",
    "l = []\n",
    "\n",
    "x = 1.\n",
    "for i in range(0,n):\n",
    "    a = 1.\n",
    "    for j in range(0,n):\n",
    "        if (i != j):\n",
    "            a = a * (x - xvar[j])/(xvar[i] - xvar[j])\n",
    "    l.append(a)\n",
    "\n",
    "y = 0\n",
    "for i in range(0,n):\n",
    "    y += yvar[i]*l[i]\n",
    "\n",
    "\n",
    "print(y)"
   ]
  },
  {
   "cell_type": "code",
   "execution_count": 91,
   "metadata": {},
   "outputs": [
    {
     "data": {
      "image/png": "[encoded data removed]",
      "text/plain": [
       "<Figure size 432x288 with 1 Axes>"
      ]
     },
     "metadata": {
      "needs_background": "light"
     },
     "output_type": "display_data"
    }
   ],
   "source": [
    "# Ploting graph\n",
    "\n",
    "x = np.linspace(0,3,20)\n",
    "\n",
    "# Linear\n",
    "l0 = ((x - x1) / (x0 - x1))\n",
    "l1 = ((x - x0) / (x1 - x0))\n",
    "\n",
    "# Parabolic\n",
    "l = []\n",
    "for i in range(0,n):\n",
    "    a = 1.\n",
    "    for j in range(0,n):\n",
    "        if (i != j):\n",
    "            a = a * (x - xvar[j])/(xvar[i] - xvar[j])\n",
    "    l.append(a)\n",
    "\n",
    "fit1 = y0*l0 + y1*l1\n",
    "fit2 = 0\n",
    "for i in range(0,n):\n",
    "    fit2 += yvar[i]*l[i]\n",
    "\n",
    "plt.plot(xvar,yvar,'o',x,fit1,'-',x,fit2,'--')\n",
    "plt.legend(['Input','Linear','Parabola'])\n",
    "plt.show()"
   ]
  },
  {
   "cell_type": "code",
   "execution_count": 101,
   "metadata": {},
   "outputs": [
    {
     "data": {
      "image/png": "[encoded data removed]",
      "text/plain": [
       "<Figure size 432x288 with 1 Axes>"
      ]
     },
     "metadata": {
      "needs_background": "light"
     },
     "output_type": "display_data"
    },
    {
     "data": {
      "text/plain": [
       "array([0.        , 0.15789474, 0.31578947, 0.47368421, 0.63157895,\n",
       "       0.78947368, 0.94736842, 1.10526316, 1.26315789, 1.42105263,\n",
       "       1.57894737, 1.73684211, 1.89473684, 2.05263158, 2.21052632,\n",
       "       2.36842105, 2.52631579, 2.68421053, 2.84210526, 3.        ])"
      ]
     },
     "execution_count": 101,
     "metadata": {},
     "output_type": "execute_result"
    }
   ],
   "source": [
    "# Newton's Method\n",
    "\n",
    "# x = 0  2  3\n",
    "# y = 7 11 28\n",
    "\n",
    "xvar = np.array([ 0., 2., 3.])\n",
    "yvar = np.array([ 7.,11.,28.])\n",
    "\n",
    "n = 3\n",
    "\n",
    "a = [yvar[0]]\n",
    "a.append((yvar[2] - yvar[0]) / (xvar[1] - xvar[0]))\n",
    "dy1 = a[1]\n",
    "dy2 = ((yvar[2] - yvar[0]) / (xvar[2] - xvar[0]))\n",
    "a.append((dy2 - dy1) / (x[2] - x[1]))\n",
    "\n",
    "\n",
    "p = a[0]\n",
    "for i in range(0,3):\n",
    "    for j in range(0,i+1):\n",
    "        p += a[j] * (x - xvar[j])\n",
    "\n",
    "plt.plot(x,p,'-')\n",
    "plt.show()\n",
    "x"
   ]
  },
  {
   "cell_type": "code",
   "execution_count": null,
   "metadata": {},
   "outputs": [],
   "source": [
    "# x 0.15    2.30    3.15   4.85    6.25    7.95\n",
    "# y 4.79867 4.49013 4.2243 3.47313 2.66674 1.51909"
   ]
  }
 ],
 "metadata": {
  "kernelspec": {
   "display_name": "Python 3",
   "language": "python",
   "name": "python3"
  },
  "language_info": {
   "codemirror_mode": {
    "name": "ipython",
    "version": 3
   },
   "file_extension": ".py",
   "mimetype": "text/x-python",
   "name": "python",
   "nbconvert_exporter": "python",
   "pygments_lexer": "ipython3",
   "version": "3.5.2"
  }
 },
 "nbformat": 4,
 "nbformat_minor": 2
}
