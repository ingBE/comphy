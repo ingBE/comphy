{
 "cells": [
  {
   "cell_type": "code",
   "execution_count": 1,
   "metadata": {},
   "outputs": [],
   "source": [
    "# Ax = B\n",
    "\n",
    "#  T1 + m1 * a = m1 * g * (np.sin(theta) - mu1 * np.cos(theta))\n",
    "# -T1 + T2 + m2 * a = m2 * g * (np.sin(theta) - mu2 * np.cos(theta))\n",
    "# -T2 + T3 + m3 * a = m3 * g * (np.sin(theta) - mu3 * np.cos(theta))\n",
    "# -T3 + m4 * a = - m4 * g\n",
    "\n",
    "# m = [10, 4, 5, 6]\n",
    "# mu = [0.25, 0.3, 0.2]\n",
    "# g = 9.8 m/s^2\n",
    "\n",
    "# Find A, B"
   ]
  },
  {
   "cell_type": "code",
   "execution_count": 40,
   "metadata": {},
   "outputs": [
    {
     "data": {
      "text/plain": [
       "array([35.85477069, 48.81074968, 68.47054664,  1.61175777])"
      ]
     },
     "execution_count": 40,
     "metadata": {},
     "output_type": "execute_result"
    }
   ],
   "source": [
    "import numpy as np\n",
    "\n",
    "mass = np.array([10, 4, 5, 6]) # kg\n",
    "mu = np.array([0.25, 0.3, 0.2])\n",
    "gval = 9.8 # m / s^2\n",
    "theta = np.pi/4\n",
    "\n",
    "aa = np.array([[ 1, 0, 0, mass[0]],\n",
    "               [-1, 1, 0, mass[1]],\n",
    "               [ 0,-1, 1, mass[2]],\n",
    "               [ 0, 0,-1, mass[3]]])\n",
    "\n",
    "def f(x,i):\n",
    "    return (np.sin(x)-mu[i]*np.cos(x))\n",
    "\n",
    "bb = np.array([ mass[0]*gval*f(theta,0),\n",
    "                mass[1]*gval*f(theta,1),\n",
    "                mass[2]*gval*f(theta,2),\n",
    "               -mass[3]*gval])\n",
    "\n",
    "np.linalg.solve(aa,bb)"
   ]
  },
  {
   "cell_type": "code",
   "execution_count": 41,
   "metadata": {},
   "outputs": [
    {
     "name": "stdout",
     "output_type": "stream",
     "text": [
      "[[ 1  0  0 10]\n",
      " [-1  1  0  4]\n",
      " [ 0 -1  1  5]\n",
      " [ 0  0 -1  6]] [ 51.97234842  19.40301008  27.71858582 -58.8       ]\n"
     ]
    },
    {
     "data": {
      "text/plain": [
       "array([[-50.97234842, -19.40301008, -27.71858582,  68.8       ],\n",
       "       [-52.97234842, -18.40301008, -27.71858582,  62.8       ],\n",
       "       [-51.97234842, -20.40301008, -26.71858582,  63.8       ],\n",
       "       [-51.97234842, -19.40301008, -28.71858582,  64.8       ]])"
      ]
     },
     "execution_count": 41,
     "metadata": {},
     "output_type": "execute_result"
    }
   ],
   "source": [
    "print(aa,bb)\n",
    "aa - bb"
   ]
  },
  {
   "cell_type": "code",
   "execution_count": 20,
   "metadata": {},
   "outputs": [
    {
     "data": {
      "text/plain": [
       "-2"
      ]
     },
     "execution_count": 20,
     "metadata": {},
     "output_type": "execute_result"
    }
   ],
   "source": [
    "# x1 * (k1 + k2) - (x2 - x1) * k3 - (x3 - x1) * k5 - W1 = 0\n",
    "# k3 * (x2 - x1) - k4 * (x3 - x2) - W2 = 0\n",
    "# k4 * (x3 - x2) + k5 * (x3 - x1) - W3 = 0\n",
    "\n"
   ]
  },
  {
   "cell_type": "code",
   "execution_count": 59,
   "metadata": {},
   "outputs": [
    {
     "data": {
      "text/plain": [
       "array([2.        , 2.63829787, 2.61702128])"
      ]
     },
     "execution_count": 59,
     "metadata": {},
     "output_type": "execute_result"
    }
   ],
   "source": [
    "k = [1,2,3,4,5]\n",
    "W = [1,2,3]\n",
    "\n",
    "aa = np.array([[k[0]+k[1]+k[2]+k[4],    -k[2],    -k[4]],\n",
    "               [              -k[2],k[2]+k[3],    -k[3]],\n",
    "               [              -k[4],    -k[3],k[3]+k[4]]])\n",
    "\n",
    "bb = np.array(W)\n",
    "\n",
    "np.linalg.solve(aa,bb)"
   ]
  },
  {
   "cell_type": "code",
   "execution_count": 63,
   "metadata": {},
   "outputs": [],
   "source": [
    "aa = np.array([[ 4,-2, 1],\n",
    "               [-2, 4, 2],\n",
    "               [ 1,-2, 4]])\n",
    "bb = np.array([[11,-16,17]])"
   ]
  },
  {
   "cell_type": "code",
   "execution_count": 61,
   "metadata": {},
   "outputs": [],
   "source": [
    "aa = np.array([[   4,  -2,  1],\n",
    "               [   0, 3.5,2.5],\n",
    "               [   0,-1.5,2.5]])\n",
    "bb = np.array([[11,-10.5,14.25]])"
   ]
  },
  {
   "cell_type": "code",
   "execution_count": 62,
   "metadata": {},
   "outputs": [],
   "source": [
    "aa = np.array([[  4, -2,  1],\n",
    "               [  0,3.5,2.5],\n",
    "               [  0,  0,  5]])\n",
    "bb = np.array([[11,-10.5,9]])"
   ]
  },
  {
   "cell_type": "code",
   "execution_count": 64,
   "metadata": {},
   "outputs": [
    {
     "ename": "SyntaxError",
     "evalue": "invalid syntax (<ipython-input-64-7ca1f1a4937c>, line 6)",
     "output_type": "error",
     "traceback": [
      "\u001b[0;36m  File \u001b[0;32m\"<ipython-input-64-7ca1f1a4937c>\"\u001b[0;36m, line \u001b[0;32m6\u001b[0m\n\u001b[0;31m    lambda = aa[jj,ii]/aa[ii,ii]\u001b[0m\n\u001b[0m           ^\u001b[0m\n\u001b[0;31mSyntaxError\u001b[0m\u001b[0;31m:\u001b[0m invalid syntax\n"
     ]
    }
   ],
   "source": [
    "def gauss(aa,bb):\n",
    "    nsize = len(aa)\n",
    "    for ii in range(0,nsize-1):\n",
    "        for jj in range(ii+1,nsize):\n",
    "            if aa[jj,ii] != 0:\n",
    "                lam = aa[jj,ii]/aa[ii,ii]"
   ]
  },
  {
   "cell_type": "code",
   "execution_count": null,
   "metadata": {},
   "outputs": [],
   "source": []
  }
 ],
 "metadata": {
  "kernelspec": {
   "display_name": "Python 3",
   "language": "python",
   "name": "python3"
  },
  "language_info": {
   "codemirror_mode": {
    "name": "ipython",
    "version": 3
   },
   "file_extension": ".py",
   "mimetype": "text/x-python",
   "name": "python",
   "nbconvert_exporter": "python",
   "pygments_lexer": "ipython3",
   "version": "3.5.2"
  }
 },
 "nbformat": 4,
 "nbformat_minor": 2
}
