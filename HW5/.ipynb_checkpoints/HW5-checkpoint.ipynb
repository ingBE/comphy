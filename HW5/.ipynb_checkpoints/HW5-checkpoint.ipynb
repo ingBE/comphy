{
 "cells": [
  {
   "cell_type": "code",
   "execution_count": 1,
   "metadata": {},
   "outputs": [],
   "source": [
    "import matplotlib.pyplot as plt\n",
    "from math import exp, sqrt\n",
    "import numpy as np"
   ]
  },
  {
   "cell_type": "code",
   "execution_count": 2,
   "metadata": {},
   "outputs": [],
   "source": [
    "def lagrangePoly(x,xData,yDaya):\n",
    "    n = len(xData)\n",
    "    l = []\n",
    "    for i in range(0,n):\n",
    "        a = 1.\n",
    "        for j in range(0,n):\n",
    "            if (i != j):\n",
    "                a = a * (x - xData[j])/(xData[i] - xData[j])\n",
    "        l.append(a)\n",
    "    \n",
    "    p = 0\n",
    "    for i in range(0,n):\n",
    "        p += yData[i]*l[i]\n",
    "\n",
    "    return p"
   ]
  },
  {
   "cell_type": "code",
   "execution_count": 3,
   "metadata": {},
   "outputs": [
    {
     "data": {
      "image/png": "[encoded data removed]",
      "text/plain": [
       "<Figure size 432x288 with 1 Axes>"
      ]
     },
     "metadata": {
      "needs_background": "light"
     },
     "output_type": "display_data"
    }
   ],
   "source": [
    "xData = [1, 3, 5]\n",
    "yData = [3, 10, 20]\n",
    "\n",
    "x = np.linspace(min(xData),max(xData))\n",
    "\n",
    "plt.plot(xData,yData,'o',x,lagrangePoly(x,xData,yData),'-')\n",
    "plt.grid()\n",
    "plt.show()"
   ]
  },
  {
   "cell_type": "code",
   "execution_count": 4,
   "metadata": {},
   "outputs": [],
   "source": [
    "def swapRows(v,i,j):\n",
    "    if len(v.shape) == 1:\n",
    "        v[i],v[j] = v[j],v[i]\n",
    "    else:\n",
    "        v[[i,j],:] = v[[j,i],:]\n",
    "\n",
    "def gaussPivot(a,b,tol=1.0e-12):\n",
    "    n = len(b)\n",
    "  # Set up scale factors\n",
    "    s = np.zeros(n)\n",
    "    for i in range(n):\n",
    "        s[i] = max(np.abs(a[i,:]))\n",
    "    for k in range(0,n-1):\n",
    "      # Row interchange, if needed\n",
    "        p = np.argmax(np.abs(a[k:n,k])/s[k:n]) + k\n",
    "        if abs(a[p,k]) < tol: error.err('Matrix is singular')\n",
    "        if p != k:\n",
    "            swapRows(b,k,p)\n",
    "            swapRows(s,k,p)\n",
    "            swapRows(a,k,p)\n",
    "      # Elimination\n",
    "        for i in range(k+1,n):\n",
    "            if a[i,k] != 0.0:\n",
    "                lam = a[i,k]/a[k,k]\n",
    "                a[i,k+1:n] = a[i,k+1:n] - lam*a[k,k+1:n]\n",
    "                b[i] = b[i] - lam*b[k]\n",
    "    if abs(a[n-1,n-1]) < tol: error.err('Matrix is singular')\n",
    "  # Back substitution\n",
    "    b[n-1] = b[n-1]/a[n-1,n-1]\n",
    "    for k in range(n-2,-1,-1):\n",
    "        b[k] = (b[k] - np.dot(a[k,k+1:n],b[k+1:n]))/a[k,k]\n",
    "    return b\n",
    "\n",
    "def polyFit(xData,yData,m):\n",
    "    a = np.zeros((m+1,m+1))\n",
    "    b = np.zeros(m+1)\n",
    "    s = np.zeros(2*m+1)\n",
    "    for i in range(len(xData)):\n",
    "        temp = yData[i]\n",
    "        for j in range(m+1):\n",
    "            b[j] = b[j] + temp\n",
    "            temp = temp*xData[i]\n",
    "        temp = 1.0\n",
    "        for j in range(2*m+1):\n",
    "            s[j] = s[j] + temp\n",
    "            temp = temp*xData[i]\n",
    "    \n",
    "    \n",
    "    for i in range(m+1):\n",
    "        for j in range(m+1):\n",
    "            a[i,j] = s[i+j]\n",
    "    return gaussPivot(a,b)"
   ]
  },
  {
   "cell_type": "code",
   "execution_count": 5,
   "metadata": {},
   "outputs": [
    {
     "ename": "NameError",
     "evalue": "name 'y' is not defined",
     "output_type": "error",
     "traceback": [
      "\u001b[1;31m---------------------------------------------------------------------------\u001b[0m",
      "\u001b[1;31mNameError\u001b[0m                                 Traceback (most recent call last)",
      "\u001b[1;32m<ipython-input-5-6b36b66f5547>\u001b[0m in \u001b[0;36m<module>\u001b[1;34m\u001b[0m\n\u001b[0;32m     21\u001b[0m \u001b[1;33m\u001b[0m\u001b[0m\n\u001b[0;32m     22\u001b[0m \u001b[1;32mfor\u001b[0m \u001b[0mm\u001b[0m \u001b[1;32min\u001b[0m \u001b[0mrange\u001b[0m\u001b[1;33m(\u001b[0m\u001b[1;36m1\u001b[0m\u001b[1;33m,\u001b[0m\u001b[1;36m4\u001b[0m\u001b[1;33m)\u001b[0m\u001b[1;33m:\u001b[0m\u001b[1;33m\u001b[0m\u001b[1;33m\u001b[0m\u001b[0m\n\u001b[1;32m---> 23\u001b[1;33m     \u001b[0my\u001b[0m\u001b[1;33m.\u001b[0m\u001b[0mappend\u001b[0m\u001b[1;33m(\u001b[0m\u001b[0mmapar\u001b[0m\u001b[1;33m(\u001b[0m\u001b[1;32mlambda\u001b[0m \u001b[0mx\u001b[0m\u001b[1;33m:\u001b[0m\u001b[0mf\u001b[0m\u001b[1;33m(\u001b[0m\u001b[0mx\u001b[0m\u001b[1;33m,\u001b[0m\u001b[0mm\u001b[0m\u001b[1;33m)\u001b[0m\u001b[1;33m,\u001b[0m\u001b[0mx\u001b[0m\u001b[1;33m)\u001b[0m\u001b[1;33m)\u001b[0m\u001b[1;33m\u001b[0m\u001b[1;33m\u001b[0m\u001b[0m\n\u001b[0m\u001b[0;32m     24\u001b[0m     \u001b[0mplt\u001b[0m\u001b[1;33m.\u001b[0m\u001b[0mplot\u001b[0m\u001b[1;33m(\u001b[0m\u001b[0mx\u001b[0m\u001b[1;33m,\u001b[0m\u001b[0mmapar\u001b[0m\u001b[1;33m(\u001b[0m\u001b[1;32mlambda\u001b[0m \u001b[0mx\u001b[0m\u001b[1;33m:\u001b[0m\u001b[0mf\u001b[0m\u001b[1;33m(\u001b[0m\u001b[0mx\u001b[0m\u001b[1;33m,\u001b[0m\u001b[0mm\u001b[0m\u001b[1;33m)\u001b[0m\u001b[1;33m,\u001b[0m\u001b[0mx\u001b[0m\u001b[1;33m)\u001b[0m\u001b[1;33m,\u001b[0m\u001b[1;34m'-'\u001b[0m\u001b[1;33m,\u001b[0m\u001b[0mlabel\u001b[0m \u001b[1;33m=\u001b[0m \u001b[1;34m'm = '\u001b[0m\u001b[1;33m+\u001b[0m\u001b[0mstr\u001b[0m\u001b[1;33m(\u001b[0m\u001b[0mm\u001b[0m\u001b[1;33m)\u001b[0m\u001b[1;33m)\u001b[0m\u001b[1;33m\u001b[0m\u001b[1;33m\u001b[0m\u001b[0m\n\u001b[0;32m     25\u001b[0m \u001b[1;33m\u001b[0m\u001b[0m\n",
      "\u001b[1;31mNameError\u001b[0m: name 'y' is not defined"
     ]
    },
    {
     "data": {
      "image/png": "[encoded data removed]",
      "text/plain": [
       "<Figure size 432x288 with 1 Axes>"
      ]
     },
     "metadata": {
      "needs_background": "light"
     },
     "output_type": "display_data"
    }
   ],
   "source": [
    "r = np.random.random\n",
    "\n",
    "xData = np.linspace(0,10,11)\n",
    "yData = np.zeros(11)\n",
    "for i in range(11):\n",
    "    yData[i] = (i*(1+0.1*r()))**2\n",
    "\n",
    "x = np.linspace(0,10,201)    \n",
    "\n",
    "def f(x,m):\n",
    "    c = polyFit(xData,yData,m)\n",
    "    p = 0\n",
    "    for i in range(len(c)):\n",
    "        p += c[i]*(x**i)\n",
    "    return p\n",
    "\n",
    "def mapar(f,ar):\n",
    "    return np.array(list(map(f,ar)))\n",
    "\n",
    "plt.plot(xData,yData,'o')\n",
    "\n",
    "for m in range(1,4):\n",
    "    y.append(mapar(lambda x:f(x,m),x))\n",
    "    plt.plot(x,mapar(lambda x:f(x,m),x),'-',label = 'm = '+str(m))\n",
    "\n",
    "plt.legend()\n",
    "plt.grid()\n",
    "plt.show()"
   ]
  },
  {
   "cell_type": "code",
   "execution_count": null,
   "metadata": {},
   "outputs": [],
   "source": [
    "def logFit(xData,yData):\n",
    "    n = len(xData)\n",
    "    xbar, ybar = sum(xData)/n, sum(yData)/n\n",
    "\n",
    "    # b=b0/b1\n",
    "    b0, b1 = 0, 0\n",
    "    for i in range(n):\n",
    "        b0 += yData[i]*(xData[i]-xbar)\n",
    "        b1 += xData[i]*(xData[i]-xbar)\n",
    "    b = b0/b1\n",
    "    lna = ybar - xbar*b\n",
    "    a = exp(lna)\n",
    "    \n",
    "    # standard deviation\n",
    "    sigma = 0\n",
    "    for i in range(n):\n",
    "        sigma += (yData[i] - lna - b*xData[i])**2\n",
    "    sigma = sqrt(sigma/(n-2))\n",
    "    \n",
    "    return sigma,a,b"
   ]
  },
  {
   "cell_type": "code",
   "execution_count": null,
   "metadata": {},
   "outputs": [],
   "source": [
    "xData = [1.2, 2.8, 4.3, 5.4, 6.8, 7.9]\n",
    "lnyData = [ 2, 3, 3.5, 4, 5, 5.6]\n",
    "\n",
    "x = np.linspace(min(xData),max(xData),100)\n",
    "\n",
    "sigma,a, b = logFit(xData,lnyData)\n",
    "y = mapar(lambda x:a*exp(b*x),x)\n",
    "\n",
    "yData = mapar(lambda y:exp(y),lnyData)\n",
    "plt.plot(xData,yData,'o',x,y,'-')\n",
    "plt.legend(['Input','a*exp(b*x)'])\n",
    "plt.grid()\n",
    "plt.show()\n",
    "print('coefficients: ln(a) =',np.log(a),' a =',a,' b =',b)\n",
    "print('standard deviation =',sigma)"
   ]
  },
  {
   "cell_type": "code",
   "execution_count": 7,
   "metadata": {},
   "outputs": [],
   "source": [
    "def logFit(xData,yData,weight=np.ones(len(xData))):\n",
    "    n = len(xData)\n",
    "    xhat, yhat = 0, 0\n",
    "    for i in range(n):\n",
    "        xhat += xData[i]*weight[i]**2\n",
    "        yhat += yData[i]*weight[i]**2\n",
    "    xhat /= np.dot(weight,weight); yhat /= np.dot(weight,weight)\n",
    "\n",
    "    # b=b0/b1\n",
    "    b0, b1 = 0, 0\n",
    "    for i in range(n):\n",
    "        b0 += yData[i]*(xData[i]-xhat)*weight[i]**2\n",
    "        b1 += xData[i]*(xData[i]-xhat)*weight[i]**2\n",
    "    b = b0/b1\n",
    "    lna = yhat - xhat*b\n",
    "    a = exp(lna)\n",
    "    \n",
    "    # standard deviation\n",
    "    sigma = 0\n",
    "    for i in range(n):\n",
    "        sigma += (yData[i] - lna - b*xData[i])**2\n",
    "    sigma = sqrt(sigma/(n-2))\n",
    "    \n",
    "    return sigma,a,b"
   ]
  },
  {
   "cell_type": "code",
   "execution_count": 8,
   "metadata": {},
   "outputs": [
    {
     "data": {
      "image/png": "[encoded data removed]",
      "text/plain": [
       "<Figure size 432x288 with 1 Axes>"
      ]
     },
     "metadata": {
      "needs_background": "light"
     },
     "output_type": "display_data"
    },
    {
     "name": "stdout",
     "output_type": "stream",
     "text": [
      "coefficients: ln(a) = 1.27323946688785  a = 3.572406530568428  b = 0.5422627686511121\n",
      "standard deviation = 0.16141345153011627\n"
     ]
    }
   ],
   "source": [
    "xData = [1.2, 2.8, 4.3, 5.4, 6.8, 7.9]\n",
    "lnyData = [ 2, 3, 3.5, 4, 5, 5.6]\n",
    "\n",
    "x = np.linspace(min(xData),max(xData),100)\n",
    "yData = mapar(lambda y:exp(y),lnyData)\n",
    "\n",
    "sigma,a, b = logFit(xData,lnyData,lnyData)\n",
    "y = mapar(lambda x:a*exp(b*x),x)\n",
    "\n",
    "plt.plot(xData,yData,'o',x,y,'-')\n",
    "plt.legend(['Input','a*exp(b*x)'])\n",
    "plt.grid()\n",
    "plt.show()\n",
    "print('coefficients: ln(a) =',np.log(a),' a =',a,' b =',b)\n",
    "print('standard deviation =',sigma)"
   ]
  }
 ],
 "metadata": {
  "kernelspec": {
   "display_name": "Python 3",
   "language": "python",
   "name": "python3"
  },
  "language_info": {
   "codemirror_mode": {
    "name": "ipython",
    "version": 3
   },
   "file_extension": ".py",
   "mimetype": "text/x-python",
   "name": "python",
   "nbconvert_exporter": "python",
   "pygments_lexer": "ipython3",
   "version": "3.6.8"
  }
 },
 "nbformat": 4,
 "nbformat_minor": 2
}
