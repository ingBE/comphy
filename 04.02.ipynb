{
 "cells": [
  {
   "cell_type": "code",
   "execution_count": 1,
   "metadata": {},
   "outputs": [],
   "source": [
    "import numpy as np"
   ]
  },
  {
   "cell_type": "code",
   "execution_count": 280,
   "metadata": {},
   "outputs": [
    {
     "data": {
      "text/plain": [
       "array([3., 1., 1.])"
      ]
     },
     "execution_count": 280,
     "metadata": {},
     "output_type": "execute_result"
    }
   ],
   "source": [
    "amat = np.array([[  4, -1,  1],\n",
    "                 [ -1,  4, -2],\n",
    "                 [  1, -2,  4]])\n",
    "\n",
    "bvec = np.array([ 12, -1,  5])\n",
    "\n",
    "np.linalg.solve(amat, bvec)"
   ]
  },
  {
   "cell_type": "code",
   "execution_count": 277,
   "metadata": {},
   "outputs": [
    {
     "name": "stdout",
     "output_type": "stream",
     "text": [
      "x1 x2 x3   3.0 -0.25 1.25\n"
     ]
    }
   ],
   "source": [
    "# Iteration methon\n",
    "\n",
    "xini = np.array([0,0,0])\n",
    "x1 = xini[0]\n",
    "x2 = xini[1]\n",
    "x3 = xini[2]\n",
    "\n",
    "x1new = (  x2 -   x3 + 12)/4\n",
    "x2new = (  x1 + 2*x3 -  1)/4\n",
    "x3new = ( -x1 + 2*x2 +  5)/4\n",
    "\n",
    "print('x1 x2 x3  ', x1new, x2new, x3new)"
   ]
  },
  {
   "cell_type": "code",
   "execution_count": 249,
   "metadata": {},
   "outputs": [
    {
     "name": "stdout",
     "output_type": "stream",
     "text": [
      "x1 x2 x3   2.9230769966792045 0.3589742581213311 0.9743590745911206\n"
     ]
    }
   ],
   "source": [
    "weight = 0.5\n",
    "\n",
    "x1 = weight*x1new\n",
    "x2 = weight*x2new\n",
    "x3 = weight*x3new\n",
    "\n",
    "x1new = (  x2 -   x3 + 12)/4\n",
    "x2new = (  x1 + 2*x3 -  1)/4\n",
    "x3new = ( -x1 + 2*x2 +  5)/4\n",
    "\n",
    "print('x1 x2 x3  ', x1new, x2new, x3new)"
   ]
  },
  {
   "cell_type": "code",
   "execution_count": 278,
   "metadata": {},
   "outputs": [
    {
     "name": "stdout",
     "output_type": "stream",
     "text": [
      "x1 x2 x3   3.0 1.0 1.0\n"
     ]
    }
   ],
   "source": [
    "for i in range(0,1000):\n",
    "\n",
    "    weight = 0.1\n",
    "\n",
    "    x1p = weight*x1new + (1 - weight)*x1\n",
    "    x2p = weight*x2new + (1 - weight)*x2\n",
    "    x3p = weight*x3new + (1 - weight)*x3\n",
    "\n",
    "    x1 = x1new\n",
    "    x2 = x2new\n",
    "    x3 = x3new\n",
    "\n",
    "    x1new = (  x2p -   x3p + 12)/4\n",
    "    x2new = (  x1p + 2*x3p -  1)/4\n",
    "    x3new = ( -x1p + 2*x2p +  5)/4\n",
    "\n",
    "print('x1 x2 x3  ', x1new, x2new, x3new)"
   ]
  },
  {
   "cell_type": "code",
   "execution_count": 279,
   "metadata": {},
   "outputs": [
    {
     "data": {
      "text/plain": [
       "array([-0.5,  0. ,  0.5,  1. ])"
      ]
     },
     "execution_count": 279,
     "metadata": {},
     "output_type": "execute_result"
    }
   ],
   "source": [
    "# Try\n",
    "\n",
    "A = np.array([[ 2,-1, 0, 1],\n",
    "              [-1, 2,-1, 0],\n",
    "              [ 0,-1, 2,-1],\n",
    "              [ 1, 0,-1, 2]])\n",
    "\n",
    "B = np.array([0,0,0,1])\n",
    "\n",
    "np.linalg.solve(A,B)"
   ]
  },
  {
   "cell_type": "code",
   "execution_count": 295,
   "metadata": {},
   "outputs": [
    {
     "name": "stdout",
     "output_type": "stream",
     "text": [
      "x1 x2 x3 x4   0.0 0.0 0.0 0.5\n"
     ]
    }
   ],
   "source": [
    "# initial\n",
    "\n",
    "xini = np.zeros(4)\n",
    "\n",
    "x1   = xini[0]\n",
    "x2   = xini[1]\n",
    "x3   = xini[2]\n",
    "x4   = xini[3]\n",
    "\n",
    "x1new = ( x2 - x3 )/2\n",
    "x2new = ( x1 + x3 )/2\n",
    "x3new = ( x2 + x4 )/2\n",
    "x4new = (-x1 + x3 +1)/2\n",
    "\n",
    "print('x1 x2 x3 x4  ',x1new, x2new, x3new, x4new)"
   ]
  },
  {
   "cell_type": "code",
   "execution_count": 296,
   "metadata": {},
   "outputs": [
    {
     "name": "stdout",
     "output_type": "stream",
     "text": [
      "x1 x2 x3 x4   -0.5 0.0 0.5 1.0\n"
     ]
    }
   ],
   "source": [
    "for i in range(0,300):\n",
    "\n",
    "    weight = 0.1\n",
    "\n",
    "    x1p = weight * x1new + (1 - weight) * x1\n",
    "    x2p = weight * x2new + (1 - weight) * x2\n",
    "    x3p = weight * x3new + (1 - weight) * x3\n",
    "    x4p = weight * x4new + (1 - weight) * x4\n",
    "\n",
    "    x1 = x1new\n",
    "    x2 = x2new\n",
    "    x3 = x3new\n",
    "    x4 = x4new\n",
    "\n",
    "    x1new = ( x2p - x4p )/2\n",
    "    x2new = ( x1p + x3p )/2\n",
    "    x3new = ( x2p + x4p )/2\n",
    "    x4new = (-x1p + x3p +1)/2\n",
    "\n",
    "\n",
    "print('x1 x2 x3 x4  ',x1new, x2new, x3new, x4new)"
   ]
  },
  {
   "cell_type": "code",
   "execution_count": 299,
   "metadata": {},
   "outputs": [],
   "source": [
    "def iterEqs( x, weight = 1 ):\n",
    "    nsize = len(x)\n",
    "    \n",
    "    # Initial\n",
    "    xp, xnew = x, np.zeros(nsize)\n",
    "    \n",
    "    xnew[0] = ( xp[2] - xp[nsize-1] )/2\n",
    "    \n",
    "    for i in range (1,nsize-1):\n",
    "        xnew[i] = (xp[i-1] + xp[i+1])/2\n",
    "    \n",
    "    xnew[nsize-1] = ( -xp[0] + xp[nsize-2] + 1 )/2\n",
    "    \n",
    "    \n",
    "    xp = weight * xnew + (1 - weight) * x\n",
    "    x = xnew\n",
    "    \n",
    "    return xp"
   ]
  },
  {
   "cell_type": "code",
   "execution_count": 313,
   "metadata": {},
   "outputs": [
    {
     "ename": "SyntaxError",
     "evalue": "invalid syntax (<ipython-input-313-cccf041da6e3>, line 1)",
     "output_type": "error",
     "traceback": [
      "\u001b[0;36m  File \u001b[0;32m\"<ipython-input-313-cccf041da6e3>\"\u001b[0;36m, line \u001b[0;32m1\u001b[0m\n\u001b[0;31m    a = iterEqs(np.zeros(4,0.5):\u001b[0m\n\u001b[0m                               ^\u001b[0m\n\u001b[0;31mSyntaxError\u001b[0m\u001b[0;31m:\u001b[0m invalid syntax\n"
     ]
    }
   ],
   "source": [
    "a = iterEqs(np.zeros(4,0.5):\n",
    "for i in range(0,10)\n",
    "    a = iterEqs(a,0.5)\n",
    "a"
   ]
  },
  {
   "cell_type": "code",
   "execution_count": 305,
   "metadata": {},
   "outputs": [],
   "source": [
    "# k = 0\n",
    "r0 = bvec\n",
    "s0 = bvec\n",
    "\n",
    "# k = 1\n",
    "sr  = np.dot(s0,r0)\n",
    "ar  = np.dot(amat,s0)\n",
    "sar = np.dot(s0,ar)\n",
    "\n",
    "alpha = sr / ar\n",
    "x1 = alpha * s0\n",
    "r1 = bvec - np.matmau(amat, x1)\n",
    "\n",
    "# Conjugate search vector\n",
    "beta = "
   ]
  },
  {
   "cell_type": "code",
   "execution_count": null,
   "metadata": {},
   "outputs": [],
   "source": []
  }
 ],
 "metadata": {
  "kernelspec": {
   "display_name": "Python 3",
   "language": "python",
   "name": "python3"
  },
  "language_info": {
   "codemirror_mode": {
    "name": "ipython",
    "version": 3
   },
   "file_extension": ".py",
   "mimetype": "text/x-python",
   "name": "python",
   "nbconvert_exporter": "python",
   "pygments_lexer": "ipython3",
   "version": "3.5.2"
  }
 },
 "nbformat": 4,
 "nbformat_minor": 2
}
