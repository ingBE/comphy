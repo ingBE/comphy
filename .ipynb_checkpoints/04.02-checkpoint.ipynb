{
 "cells": [
  {
   "cell_type": "code",
   "execution_count": 4,
   "metadata": {},
   "outputs": [],
   "source": [
    "import numpy as np"
   ]
  },
  {
   "cell_type": "code",
   "execution_count": 9,
   "metadata": {},
   "outputs": [
    {
     "data": {
      "text/plain": [
       "array([3., 1., 1.])"
      ]
     },
     "execution_count": 9,
     "metadata": {},
     "output_type": "execute_result"
    }
   ],
   "source": [
    "amat = np.array([[  4, -1,  1],\n",
    "                 [ -1,  4, -2],\n",
    "                 [  1, -2,  4]])\n",
    "\n",
    "bvec = np.array([ 12, -1,  5])\n",
    "\n",
    "np.linalg.solve(amat, bvec)"
   ]
  },
  {
   "cell_type": "code",
   "execution_count": 29,
   "metadata": {},
   "outputs": [
    {
     "name": "stdout",
     "output_type": "stream",
     "text": [
      "x1 x2 x3   3.0 -0.25 1.25\n"
     ]
    }
   ],
   "source": [
    "# Iteration methon\n",
    "\n",
    "xini = np.array([0,0,0])\n",
    "x1 = xini[0]\n",
    "x2 = xini[1]\n",
    "x3 = xini[2]\n",
    "\n",
    "x1new = (  x2 -   x3 + 12)/4\n",
    "x2new = (  x1 + 2*x3 -  1)/4\n",
    "x3new = ( -x1 + 2*x2 +  5)/4\n",
    "\n",
    "print('x1 x2 x3  ', x1new, x2new, x3new)"
   ]
  },
  {
   "cell_type": "code",
   "execution_count": 26,
   "metadata": {},
   "outputs": [
    {
     "name": "stdout",
     "output_type": "stream",
     "text": [
      "x1 x2 x3   3.0 0.375 1.125\n"
     ]
    }
   ],
   "source": [
    "weight = 0.5\n",
    "\n",
    "x1 = weight*x1new\n",
    "x2 = weight*x2new\n",
    "x3 = weight*x3new\n",
    "\n",
    "x1new = (  x2 -   x3 + 12)/4\n",
    "x2new = (  x1 + 2*x3 -  1)/4\n",
    "x3new = ( -x1 + 2*x2 +  5)/4\n",
    "\n",
    "print('x1 x2 x3  ', x1new, x2new, x3new)"
   ]
  },
  {
   "cell_type": "code",
   "execution_count": 31,
   "metadata": {},
   "outputs": [
    {
     "name": "stdout",
     "output_type": "stream",
     "text": [
      "x1 x2 x3   3.0 1.0 1.0\n"
     ]
    }
   ],
   "source": [
    "for i in range(0,150):\n",
    "\n",
    "    weight = 0.1\n",
    "\n",
    "    x1p = weight*x1new + (1 - weight)*x1\n",
    "    x2p = weight*x2new + (1 - weight)*x2\n",
    "    x3p = weight*x3new + (1 - weight)*x3\n",
    "\n",
    "    x1 = x1new\n",
    "    x2 = x2new\n",
    "    x3 = x3new\n",
    "\n",
    "    x1new = (  x2p -   x3p + 12)/4\n",
    "    x2new = (  x1p + 2*x3p -  1)/4\n",
    "    x3new = ( -x1p + 2*x2p +  5)/4\n",
    "\n",
    "print('x1 x2 x3  ', x1new, x2new, x3new)"
   ]
  },
  {
   "cell_type": "code",
   "execution_count": 37,
   "metadata": {},
   "outputs": [
    {
     "data": {
      "text/plain": [
       "array([-0.5,  0. ,  0.5,  1. ])"
      ]
     },
     "execution_count": 37,
     "metadata": {},
     "output_type": "execute_result"
    }
   ],
   "source": [
    "# Try\n",
    "\n",
    "A = np.array([[ 2,-1, 0, 1],\n",
    "              [-1, 2,-1, 0],\n",
    "              [ 0,-1, 2,-1],\n",
    "              [ 1, 0,-1, 2]])\n",
    "\n",
    "B = np.array([0,0,0,1])\n",
    "\n",
    "np.linalg.solve(A,B)"
   ]
  },
  {
   "cell_type": "code",
   "execution_count": 41,
   "metadata": {},
   "outputs": [
    {
     "name": "stdout",
     "output_type": "stream",
     "text": [
      "x1 x2 x3 x4   0.0 0.0 0.0 0.5\n"
     ]
    }
   ],
   "source": [
    "# initial\n",
    "\n",
    "xini = np.zeros(4)\n",
    "\n",
    "x1   = xini[0]\n",
    "x2   = xini[1]\n",
    "x3   = xini[2]\n",
    "x4   = xini[3]\n",
    "\n",
    "x1new = ( x2 - x3 )/2\n",
    "x2new = ( x1 + x3 )/2\n",
    "x3new = ( x2 + x4 )/2\n",
    "x4new = (-x1 + x3 +1)/2\n",
    "\n",
    "print('x1 x2 x3 x4  ',x1new, x2new, x3new, x4new)"
   ]
  },
  {
   "cell_type": "code",
   "execution_count": 34,
   "metadata": {},
   "outputs": [
    {
     "name": "stdout",
     "output_type": "stream",
     "text": [
      "x1 x2 x3 x4   -0.5 0.0 0.5 1.0\n"
     ]
    }
   ],
   "source": [
    "for i in range(0,300):\n",
    "\n",
    "    weight = 0.1\n",
    "\n",
    "    x1p = weight * x1new + (1 - weight) * x1\n",
    "    x2p = weight * x2new + (1 - weight) * x2\n",
    "    x3p = weight * x3new + (1 - weight) * x3\n",
    "    x4p = weight * x4new + (1 - weight) * x4\n",
    "\n",
    "    x1 = x1new\n",
    "    x2 = x2new\n",
    "    x3 = x3new\n",
    "    x4 = x4new\n",
    "\n",
    "    x1new = ( x2p - x4p )/2\n",
    "    x2new = ( x1p + x3p )/2\n",
    "    x3new = ( x2p + x4p )/2\n",
    "    x4new = (-x1p + x3p +1)/2\n",
    "\n",
    "\n",
    "print('x1 x2 x3 x4  ',x1new, x2new, x3new, x4new)"
   ]
  },
  {
   "cell_type": "code",
   "execution_count": 2,
   "metadata": {},
   "outputs": [],
   "source": [
    "def iterEqs( x, weight = 1 ):\n",
    "    nsize = len(x)\n",
    "    \n",
    "    # Initial\n",
    "    xp, xnew = x, np.zeros(nsize)\n",
    "    \n",
    "    xnew[0] = ( xp[2] - xp[nsize-1] )/2\n",
    "    \n",
    "    for i in range (1,nsize-1):\n",
    "        xnew[i] = (xp[i-1] + xp[i+1])/2\n",
    "    \n",
    "    xnew[nsize-1] = ( -xp[0] + xp[nsize-2] + 1 )/2\n",
    "    \n",
    "    \n",
    "    xp = weight * xnew + (1 - weight) * x\n",
    "    x = xnew\n",
    "    \n",
    "    return xp"
   ]
  },
  {
   "cell_type": "code",
   "execution_count": 5,
   "metadata": {},
   "outputs": [
    {
     "data": {
      "text/plain": [
       "array([-0.17407227,  0.15136719,  0.484375  ,  0.82519531])"
      ]
     },
     "execution_count": 5,
     "metadata": {},
     "output_type": "execute_result"
    }
   ],
   "source": [
    "a = iterEqs(np.zeros(4),0.5)\n",
    "for i in range(0,10):\n",
    "    a = iterEqs(a)\n",
    "a"
   ]
  },
  {
   "cell_type": "code",
   "execution_count": 48,
   "metadata": {},
   "outputs": [
    {
     "ename": "SyntaxError",
     "evalue": "invalid syntax (<ipython-input-48-4335b83a85f8>, line 15)",
     "output_type": "error",
     "traceback": [
      "\u001b[1;36m  File \u001b[1;32m\"<ipython-input-48-4335b83a85f8>\"\u001b[1;36m, line \u001b[1;32m15\u001b[0m\n\u001b[1;33m    beta =\u001b[0m\n\u001b[1;37m           ^\u001b[0m\n\u001b[1;31mSyntaxError\u001b[0m\u001b[1;31m:\u001b[0m invalid syntax\n"
     ]
    }
   ],
   "source": [
    "# k = 0\n",
    "r0 = bvec\n",
    "s0 = bvec\n",
    "\n",
    "# k = 1\n",
    "sr  = np.dot(s0,r0)\n",
    "ar  = np.dot(amat,s0)\n",
    "sar = np.dot(s0,ar)\n",
    "\n",
    "alpha = sr / ar\n",
    "x1 = alpha * s0\n",
    "r1 = bvec - np.matmau(amat, x1)\n",
    "\n",
    "# Conjugate search vector\n",
    "beta = "
   ]
  },
  {
   "cell_type": "code",
   "execution_count": 98,
   "metadata": {},
   "outputs": [],
   "source": [
    "import math\n",
    "\n",
    "def conjGrad(Av,x,b,tol=1.0e-9):\n",
    "    n = len(b)\n",
    "    r = b - Av(x)\n",
    "    s = r.copy()\n",
    "    for i in range(n):\n",
    "        u = Av(s)\n",
    "        alpha = np.dot(s,r)/np.dot(s,u)\n",
    "        x = x + alpha*s\n",
    "        r = b - Av(x)\n",
    "        if(math.sqrt(np.dot(r,r))) < tol:\n",
    "            break\n",
    "        else:\n",
    "            beta = -np.dot(r,u)/np.dot(s,u)\n",
    "            s = r + beta*s\n",
    "    return x,i"
   ]
  },
  {
   "cell_type": "code",
   "execution_count": 101,
   "metadata": {},
   "outputs": [],
   "source": [
    "Av = lambda vec:np.matmul(amat,vec)"
   ]
  },
  {
   "cell_type": "code",
   "execution_count": 102,
   "metadata": {},
   "outputs": [
    {
     "data": {
      "text/plain": [
       "(array([3., 1., 1.]), 2)"
      ]
     },
     "execution_count": 102,
     "metadata": {},
     "output_type": "execute_result"
    }
   ],
   "source": [
    "conjGrad(Av,np.zeros(3),bvec)"
   ]
  },
  {
   "cell_type": "code",
   "execution_count": 50,
   "metadata": {},
   "outputs": [
    {
     "data": {
      "text/plain": [
       "array([ 1.,  2., -1.])"
      ]
     },
     "execution_count": 50,
     "metadata": {},
     "output_type": "execute_result"
    }
   ],
   "source": [
    "## problem 1.a\n",
    "\n",
    "def gauss_seidel( amat, bmat, x, weight = 1, tol = 1.0e-9 ):\n",
    "    n = len(x)\n",
    "    triger = True\n",
    "    i = 0\n",
    "    while triger:\n",
    "        x_ = x.copy()\n",
    "        for i in range(0,n):\n",
    "            sum = 0\n",
    "            for j in range(0,n):\n",
    "                if (i!=j):\n",
    "                    sum += amat[i][j]*x_[j]\n",
    "            x[i] = weight * (bvec[i] - sum) / amat[i][i] + (1 - weight) * x_[i]\n",
    "        i += 1\n",
    "        triger = tol < (math.sqrt(np.dot(x-x_,x-x_)))\n",
    "    return x\n",
    "        \n",
    "    \n",
    "amat = np.array([[ 3, 0,-1],\n",
    "                 [ 0, 4,-2],\n",
    "                 [-1,-2, 5]])\n",
    "bvec = np.array([4,10,-10])\n",
    "\n",
    "iterEqs_(amat,bvec,np.zeros(3))\n",
    "\n",
    "x = np.zeros(3)\n",
    "gauss_seidel( amat, bvec, x )"
   ]
  },
  {
   "cell_type": "code",
   "execution_count": 32,
   "metadata": {},
   "outputs": [
    {
     "name": "stdout",
     "output_type": "stream",
     "text": [
      "\n",
      "Number of iterations = 16\n",
      "\n",
      "Relaxation factor = 1.0773837106701587\n",
      "\n",
      "The solution is:\n",
      " [ 1.  2. -1.]\n"
     ]
    }
   ],
   "source": [
    "## problem1.b\n",
    "\n",
    "import numpy as np\n",
    "import math\n",
    "\n",
    "def iterEqs(x,omega): # Omega value supplied by gaussSeidel\n",
    "    n = len(x)\n",
    "# ... Modify below ...\n",
    "    x[0] = omega*(4 + x[2])/3.0 + (1.0 - omega)*x[0]\n",
    "    x[1] = omega*(10 + 2.0*x[2])/4.0 + (1.0 - omega)*x[1]\n",
    "    x[2] = omega*(-10 + x[0] + 2.0 * x[1])/5.0 + (1.0 - omega)*x[2]\n",
    "# ... Up to here ...\n",
    "    return x\n",
    "\n",
    "def gaussSeidel(iterEqs,x,tol = 1.0e-9):\n",
    "    omega = 1.0\n",
    "    k = 10\n",
    "    p=1\n",
    "    for i in range(1,501):\n",
    "        xOld = x.copy()\n",
    "        x = iterEqs(x,omega)\n",
    "        dx = math.sqrt(np.dot(x-xOld,x-xOld))\n",
    "        if dx < tol: return x,i,omega\n",
    "# Compute relaxation factor after k+p iterations\n",
    "        if i == k: dx1 = dx\n",
    "        if i == k + p:\n",
    "            dx2 = dx\n",
    "            omega = 2.0/(1.0 + math.sqrt(1.0  \\\n",
    "                    - (dx2/dx1)**(1.0/p)))\n",
    "    print('Gauss-Seidel failed to converge')\n",
    "\n",
    "x = np.zeros(3)\n",
    "x, numit, omega = gaussSeidel(iterEqs,x)\n",
    "print(\"\\nNumber of iterations =\",numit)\n",
    "print(\"\\nRelaxation factor =\",omega)\n",
    "print(\"\\nThe solution is:\\n\",x)"
   ]
  },
  {
   "cell_type": "code",
   "execution_count": null,
   "metadata": {},
   "outputs": [],
   "source": [
    "## problem2.a\n",
    "\n"
   ]
  },
  {
   "cell_type": "code",
   "execution_count": 118,
   "metadata": {},
   "outputs": [
    {
     "name": "stdout",
     "output_type": "stream",
     "text": [
      "\n",
      "The solution is:\n",
      " [ 1.  2. -1.]\n",
      "\n",
      "Number of iterations = 2\n"
     ]
    }
   ],
   "source": [
    "## problem2.b\n",
    "\n",
    "def Ax(v):    # User supplied function that calculates A*v\n",
    "#   n = len(v)\n",
    "    Ax = np.zeros(3)\n",
    "# ... Modify below ...\n",
    "    Ax[0] = 3.0*v[0] - v[2]\n",
    "    Ax[1] = 4.0*v[1] - 2.0*v[2]\n",
    "    Ax[2] = -v[0] - 2.0*v[1] + 5.0*v[2]\n",
    "# ... up to here ...\n",
    "    return Ax\n",
    "\n",
    "import numpy as np\n",
    "import math\n",
    "def conjGrad(Av,x,b,tol=1.0e-9):\n",
    "    n = len(b)\n",
    "    r = b - Av(x)\n",
    "    s = r.copy()\n",
    "    for i in range(n):\n",
    "        u = Av(s)\n",
    "        alpha = np.dot(s,r)/np.dot(s,u)\n",
    "        x = x + alpha*s\n",
    "        r = b - Av(x)\n",
    "        if(math.sqrt(np.dot(r,r))) < tol:\n",
    "            break \n",
    "        else:\n",
    "            beta = -np.dot(r,u)/np.dot(s,u)\n",
    "            s = r + beta*s\n",
    "    return x,i\n",
    "\n",
    "\n",
    "\n",
    "# ... Set problem dimension here ...\n",
    "n=3\n",
    "b = np.array([4,10,-10])\n",
    "x = np.zeros(n)\n",
    "x,numIter = conjGrad(Ax,x,b)\n",
    "print(\"\\nThe solution is:\\n\",x)\n",
    "print(\"\\nNumber of iterations =\",numIter)"
   ]
  }
 ],
 "metadata": {
  "kernelspec": {
   "display_name": "Python 3",
   "language": "python",
   "name": "python3"
  },
  "language_info": {
   "codemirror_mode": {
    "name": "ipython",
    "version": 3
   },
   "file_extension": ".py",
   "mimetype": "text/x-python",
   "name": "python",
   "nbconvert_exporter": "python",
   "pygments_lexer": "ipython3",
   "version": "3.6.8"
  }
 },
 "nbformat": 4,
 "nbformat_minor": 2
}
