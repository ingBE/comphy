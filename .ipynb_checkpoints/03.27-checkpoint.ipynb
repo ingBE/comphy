{
 "cells": [
  {
   "cell_type": "code",
   "execution_count": 1,
   "metadata": {},
   "outputs": [],
   "source": [
    "import numpy as np"
   ]
  },
  {
   "cell_type": "code",
   "execution_count": 103,
   "metadata": {},
   "outputs": [
    {
     "data": {
      "text/plain": [
       "array([ 1., -2.,  3.])"
      ]
     },
     "execution_count": 103,
     "metadata": {},
     "output_type": "execute_result"
    }
   ],
   "source": [
    "a = np.array([[ 4.,-2., 1.],\n",
    "              [-2., 4.,-2.],\n",
    "              [ 1.,-2., 4.]])\n",
    "b = np.array([11.,-16.,17.])\n",
    "x = np.linalg.solve(a,b)\n",
    "ainv = np.linalg.inv(a)\n",
    "x"
   ]
  },
  {
   "cell_type": "code",
   "execution_count": 3,
   "metadata": {},
   "outputs": [
    {
     "data": {
      "text/plain": [
       "array([ 11., -16.,  17.])"
      ]
     },
     "execution_count": 3,
     "metadata": {},
     "output_type": "execute_result"
    }
   ],
   "source": [
    "np.matmul(a,x) # Ax = B"
   ]
  },
  {
   "cell_type": "code",
   "execution_count": 4,
   "metadata": {},
   "outputs": [
    {
     "data": {
      "text/plain": [
       "array([ 1., -2.,  3.])"
      ]
     },
     "execution_count": 4,
     "metadata": {},
     "output_type": "execute_result"
    }
   ],
   "source": [
    "np.matmul(ainv,b) # A^(-1)Ax = B"
   ]
  },
  {
   "cell_type": "code",
   "execution_count": 105,
   "metadata": {
    "scrolled": false
   },
   "outputs": [
    {
     "name": "stdout",
     "output_type": "stream",
     "text": [
      "[[ 4.  -2.   1. ]\n",
      " [ 0.   3.  -1.5]\n",
      " [ 1.  -2.   4. ]] \n",
      " [ 11.  -10.5  17. ] \n",
      "\n",
      "[[ 4.   -2.    1.  ]\n",
      " [ 0.    3.   -1.5 ]\n",
      " [ 0.   -1.5   3.75]] \n",
      " [ 11.   -10.5   14.25] \n",
      "\n",
      "[[ 4.  -2.   1. ]\n",
      " [ 0.   3.  -1.5]\n",
      " [ 0.   0.   3. ]] \n",
      " [ 11.  -10.5   9. ]\n"
     ]
    }
   ],
   "source": [
    "# Initializing parameters\n",
    "ipiv    = 0\n",
    "nsize   = 3\n",
    "bb      = np.zeros(nsize)\n",
    "\n",
    "d = np.array(a)\n",
    "f = np.array(b)\n",
    "\n",
    "# eliminate 2nd row\n",
    "rnum    = 1\n",
    "lam     = a[ipiv+rnum,ipiv]/a[ipiv,ipiv]\n",
    "c       = a[ipiv+rnum,0:nsize] - lam * a[ipiv,0:nsize]\n",
    "d[rnum] = c\n",
    "f[rnum] = f[rnum] - lam * f[ipiv]\n",
    "print(d,'\\n',f,'\\n')\n",
    "\n",
    "# eliminate 3rd row\n",
    "rnum    = 2\n",
    "lam     = a[ipiv+rnum,ipiv]/a[ipiv,ipiv]\n",
    "c       = a[ipiv+rnum,0:nsize] - lam * a[ipiv,0:nsize]\n",
    "d[rnum] = c\n",
    "f[rnum] = f[rnum] - lam * f[ipiv]\n",
    "print(d,'\\n',f,'\\n')\n",
    "\n",
    "# eliminate 2nd column 3nd row\n",
    "ipiv    = 1\n",
    "\n",
    "rnum    = 2\n",
    "lam     = d[rnum,ipiv]/d[ipiv,ipiv]\n",
    "c       = d[rnum,0:nsize] - lam * d[ipiv,0:nsize]\n",
    "d[rnum] = c\n",
    "f[rnum] = f[rnum] - lam * f[ipiv]\n",
    "print(d,'\\n',f)"
   ]
  },
  {
   "cell_type": "code",
   "execution_count": 6,
   "metadata": {},
   "outputs": [
    {
     "name": "stdout",
     "output_type": "stream",
     "text": [
      "[[ 4.   -2.    1.  ]\n",
      " [ 0.    3.   -1.5 ]\n",
      " [ 0.   -1.5   3.75]] \n",
      "\n",
      " [ 11.   -10.5   14.25]\n"
     ]
    }
   ],
   "source": [
    "# Initializing parameters\n",
    "ipiv    = 0\n",
    "nsize   = 3\n",
    "bb      = np.zeros(nsize)\n",
    "d = np.array(a)\n",
    "f = np.array(b)\n",
    "\n",
    "# eliminate 1st column\n",
    "for rnum in range(1,nsize):\n",
    "    lam     = d[ipiv+rnum,ipiv]/d[ipiv,ipiv]\n",
    "    c       = d[ipiv+rnum,0:nsize] - lam * d[ipiv,0:nsize]\n",
    "    d[rnum] = c\n",
    "    f[rnum] = f[rnum] - lam * f[ipiv]\n",
    "\n",
    "\n",
    "print(d,'\\n\\n',f)"
   ]
  },
  {
   "cell_type": "code",
   "execution_count": 7,
   "metadata": {},
   "outputs": [
    {
     "name": "stdout",
     "output_type": "stream",
     "text": [
      "ipiv: 0\n",
      "rnum: 1 lam: -0.5 \n",
      "c:\n",
      " [ 0.   3.  -1.5] \n",
      "d:\n",
      " [[ 4.  -2.   1. ]\n",
      " [ 0.   3.  -1.5]\n",
      " [ 1.  -2.   4. ]] \n",
      "e: [ 11.  -10.5  17. ]\n",
      "\n",
      "rnum: 2 lam: 0.25 \n",
      "c:\n",
      " [ 0.   -1.5   3.75] \n",
      "d:\n",
      " [[ 4.   -2.    1.  ]\n",
      " [ 0.    3.   -1.5 ]\n",
      " [ 0.   -1.5   3.75]] \n",
      "e: [ 11.   -10.5   14.25]\n",
      "\n",
      "ipiv: 1\n",
      "rnum: 2 lam: -0.5 \n",
      "c:\n",
      " [0. 0. 3.] \n",
      "d:\n",
      " [[ 4.  -2.   1. ]\n",
      " [ 0.   3.  -1.5]\n",
      " [ 0.   0.   3. ]] \n",
      "e: [ 11.  -10.5   9. ]\n",
      "\n",
      "1 1\n",
      "1 2\n",
      "0 0\n",
      "0 1\n",
      "0 2\n",
      "[ 1. -2.  3.]\n"
     ]
    }
   ],
   "source": [
    "# Initializing parameters\n",
    "nsize   = 3\n",
    "bb      = np.zeros(nsize)\n",
    "d = np.array(a)\n",
    "e = np.array(b)\n",
    "\n",
    "for ipiv in range(0,nsize-1):\n",
    "    print('ipiv:',ipiv)\n",
    "    for rnum in range(ipiv+1,nsize):\n",
    "        lam     = d[rnum,ipiv]/d[ipiv,ipiv]\n",
    "        c       = d[rnum,0:nsize] - lam * d[ipiv,0:nsize]\n",
    "        d[rnum] = c\n",
    "        e[rnum] = e[rnum] - lam * e[ipiv]\n",
    "        print('rnum:',rnum,'lam:',lam,'\\nc:\\n',c,'\\nd:\\n',d,'\\ne:',e)\n",
    "        print('')\n",
    "\n",
    "x = np.zeros(nsize)\n",
    "#x[2] = e[2]/d[2][2]\n",
    "#x[1] = (e[1]-d[1][2]*x[2])/d[1][1]\n",
    "#x[0] = (e[0]-d[0][2]*x[2]-d[0][1]*x[1])/d[0][0]\n",
    "\n",
    "x[nsize-1]=e[nsize-1]/d[nsize-1][nsize-1]\n",
    "for n in range(1,nsize):\n",
    "    sum, i = 0, nsize-n-1\n",
    "    for j in range(i,nsize):\n",
    "        sum += d[i][j]*x[j]\n",
    "        print(i,j)\n",
    "    x[i] = (e[i]-sum)/d[i][i]\n",
    "\n",
    "print(x)"
   ]
  },
  {
   "cell_type": "code",
   "execution_count": 93,
   "metadata": {},
   "outputs": [],
   "source": [
    "def triangular(A,B):\n",
    "    # Initializing parameters\n",
    "    nsize   = len(A)\n",
    "    a = np.array(A)\n",
    "    b = np.array(B)\n",
    "\n",
    "    for ipiv in range(0,nsize-1):\n",
    "        for rnum in range(ipiv+1,nsize):\n",
    "            lam     = a[rnum,ipiv]/a[ipiv,ipiv]\n",
    "            a[rnum] = a[rnum,0:nsize] - lam * a[ipiv,0:nsize]\n",
    "            b[rnum] = b[rnum] - lam * b[ipiv]\n",
    "\n",
    "    return [a,b]\n",
    "\n",
    "def solve(A,B):\n",
    "    # Initializing parameters\n",
    "    nsize = len(A)\n",
    "    a     = np.array(A)\n",
    "    b     = np.array(B)\n",
    "\n",
    "    # Triangular\n",
    "    for ipiv in range(0,nsize-1):\n",
    "        for rnum in range(ipiv+1,nsize):\n",
    "            lam     = a[rnum,ipiv]/a[ipiv,ipiv]\n",
    "            a[rnum] = a[rnum,0:nsize] - lam * a[ipiv,0:nsize]\n",
    "            b[rnum] = b[rnum] - lam * b[ipiv]\n",
    "\n",
    "    x = np.zeros(nsize)\n",
    "    x[nsize-1]=b[nsize-1]/a[nsize-1][nsize-1]\n",
    "    for n in range(2,nsize+1):\n",
    "        sum, i = 0, nsize - n\n",
    "        for j in range(i,nsize):\n",
    "            sum = sum + a[i][j] * x[j]\n",
    "        x[i] = (b[i] - sum) / a[i][i]\n",
    "        \n",
    "    return x\n",
    "    \n",
    "def solve0(A,B): # Use triangular function\n",
    "    # Initializing parameters\n",
    "    nsize = len(A)\n",
    "    C = triangular(A,B)\n",
    "    a = C[0]\n",
    "    b = C[1]\n",
    "    \n",
    "    x = np.zeros(nsize)\n",
    "    x[nsize-1]=b[nsize-1]/a[nsize-1][nsize-1]\n",
    "    for n in range(2,nsize+1):\n",
    "        sum, i = 0, nsize - n\n",
    "        for j in range(i,nsize):\n",
    "            sum = sum + a[i][j] * x[j]\n",
    "        x[i] = (b[i] - sum) / a[i][i]\n",
    "    \n",
    "    return x"
   ]
  },
  {
   "cell_type": "code",
   "execution_count": 4,
   "metadata": {},
   "outputs": [
    {
     "name": "stdout",
     "output_type": "stream",
     "text": [
      "[-3.33066907e-16  4.16333634e-16  2.81892565e-16  2.22044605e-16]\n"
     ]
    }
   ],
   "source": [
    "a, b = [], []\n",
    "\n",
    "A = np.array([[0.,0.,0.,0.],[0.,0.,0.,0.],[0.,0.,0.,0.],[0.,0.,0.,0.]])\n",
    "\n",
    "# Make 10 random array b\n",
    "for i in range(0,10):\n",
    "    b.append(np.random.random(4))\n",
    "\n",
    "for i in range(0,10):\n",
    "    a_sample = np.random.random(16)\n",
    "\n",
    "    for j in range(0,4):\n",
    "        A[j,0:4] = a_sample[j*4:(j+1)*4]\n",
    "    \n",
    "    a.append(A)\n",
    "\n",
    "num = 0\n",
    "results = np.zeros(4)\n",
    "for i in range(0,10):\n",
    "    x = np.linalg.solve(a[i],b[i])\n",
    "    solve = solve0(a[i],b[i])\n",
    "    results += x - solve\n",
    "    num =+ 1\n",
    "\n",
    "print(results/num)"
   ]
  },
  {
   "cell_type": "code",
   "execution_count": 9,
   "metadata": {},
   "outputs": [],
   "source": [
    "chole  = np.linalg.cholesky(a)\n",
    "cholet = np.transpose(chole)\n",
    "amat   = np.matmul(chole,cholet)\n",
    "\n",
    "print(chole,'\\n\\n',cholet,'\\n\\n',amat)"
   ]
  },
  {
   "cell_type": "code",
   "execution_count": 10,
   "metadata": {},
   "outputs": [
    {
     "data": {
      "text/plain": [
       "array([[ 2.        ,  0.        ,  0.        ],\n",
       "       [-1.        ,  1.73205081,  0.        ],\n",
       "       [ 0.5       , -0.8660254 ,  1.73205081]])"
      ]
     },
     "execution_count": 10,
     "metadata": {},
     "output_type": "execute_result"
    }
   ],
   "source": [
    "chole"
   ]
  },
  {
   "cell_type": "code",
   "execution_count": 11,
   "metadata": {},
   "outputs": [
    {
     "data": {
      "text/plain": [
       "array([[ 2.        , -1.        ,  0.5       ],\n",
       "       [ 0.        ,  1.73205081, -0.8660254 ],\n",
       "       [ 0.        ,  0.        ,  1.73205081]])"
      ]
     },
     "execution_count": 11,
     "metadata": {},
     "output_type": "execute_result"
    }
   ],
   "source": [
    "cholet"
   ]
  },
  {
   "cell_type": "code",
   "execution_count": 12,
   "metadata": {},
   "outputs": [
    {
     "data": {
      "text/plain": [
       "array([[ 4., -2.,  1.],\n",
       "       [-2.,  4., -2.],\n",
       "       [ 1., -2.,  4.]])"
      ]
     },
     "execution_count": 12,
     "metadata": {},
     "output_type": "execute_result"
    }
   ],
   "source": [
    "amat"
   ]
  },
  {
   "cell_type": "code",
   "execution_count": null,
   "metadata": {},
   "outputs": [],
   "source": [
    "# Use the Cholesky matrix to obtain y, and then x"
   ]
  },
  {
   "cell_type": "code",
   "execution_count": 30,
   "metadata": {},
   "outputs": [],
   "source": [
    "chole  = np.linalg.cholesky(a)\n",
    "cholet = np.transpose(chole)\n",
    "\n",
    "nsize = 3\n",
    "\n",
    "# L*y = b\n",
    "ys = np.zeros(nsize)\n",
    "ys[0] = b[0]/chole[0,0]\n",
    "ys[1] = ( b[1] - chole[1,0]*ys[0] ) / chole[1,1]\n",
    "ys[2] = ( b[2] - chole[2,0]*ys[0] - chole[2,1]*ys[1]) / chole[2,2]\n",
    "\n",
    "# U*x = y\n",
    "xs    = np.zeros(nsize)\n",
    "xs[2] = ys[2]/cholet[2,2]\n",
    "xs[1] = ( ys[1] - cholet[1,2]*xs[2] ) / chole[1,1]\n",
    "xs[0] = ( ys[0] - cholet[0,1]*xs[1] - cholet[0,2]*xs[2]) / cholet[0,0]\n"
   ]
  },
  {
   "cell_type": "code",
   "execution_count": 102,
   "metadata": {},
   "outputs": [
    {
     "name": "stdout",
     "output_type": "stream",
     "text": [
      "[0. 0. 0.]\n",
      "[0.0000000e+00 0.0000000e+00 4.4408921e-16]\n"
     ]
    }
   ],
   "source": [
    "def chole(a,b):\n",
    "    L = np.linalg.cholesky(a)\n",
    "    U = np.transpose(L)\n",
    "    nsize = len(a)\n",
    "    \n",
    "    y = np.linalg.solve(L,b)\n",
    "    x = np.linalg.solve(U,y)\n",
    "    \n",
    "    return x\n",
    "\n",
    "print(solve(a,b) - np.linalg.solve(a,b))\n",
    "print(chole(a,b) - np.linalg.solve(a,b))"
   ]
  },
  {
   "cell_type": "code",
   "execution_count": 86,
   "metadata": {},
   "outputs": [
    {
     "name": "stdout",
     "output_type": "stream",
     "text": [
      "[[0.19436197 0.46588366 0.19436197 0.67247225]\n",
      " [0.46588366 0.07667427 0.46588366 0.38763775]\n",
      " [0.19436197 0.46588366 0.07667427 0.75768125]\n",
      " [0.67247225 0.38763775 0.75768125 0.19436197]]\n"
     ]
    },
    {
     "ename": "LinAlgError",
     "evalue": "Matrix is not positive definite",
     "output_type": "error",
     "traceback": [
      "\u001b[1;31m---------------------------------------------------------------------------\u001b[0m",
      "\u001b[1;31mLinAlgError\u001b[0m                               Traceback (most recent call last)",
      "\u001b[1;32m<ipython-input-86-9fa5171486fd>\u001b[0m in \u001b[0;36m<module>\u001b[1;34m\u001b[0m\n\u001b[0;32m     24\u001b[0m \u001b[1;32mfor\u001b[0m \u001b[0mi\u001b[0m \u001b[1;32min\u001b[0m \u001b[0mrange\u001b[0m\u001b[1;33m(\u001b[0m\u001b[1;36m0\u001b[0m\u001b[1;33m,\u001b[0m\u001b[1;36m10\u001b[0m\u001b[1;33m)\u001b[0m\u001b[1;33m:\u001b[0m\u001b[1;33m\u001b[0m\u001b[1;33m\u001b[0m\u001b[0m\n\u001b[0;32m     25\u001b[0m     \u001b[0mx\u001b[0m \u001b[1;33m=\u001b[0m \u001b[0mnp\u001b[0m\u001b[1;33m.\u001b[0m\u001b[0mlinalg\u001b[0m\u001b[1;33m.\u001b[0m\u001b[0msolve\u001b[0m\u001b[1;33m(\u001b[0m\u001b[0ma\u001b[0m\u001b[1;33m[\u001b[0m\u001b[0mi\u001b[0m\u001b[1;33m]\u001b[0m\u001b[1;33m,\u001b[0m\u001b[0mb\u001b[0m\u001b[1;33m[\u001b[0m\u001b[0mi\u001b[0m\u001b[1;33m]\u001b[0m\u001b[1;33m)\u001b[0m\u001b[1;33m\u001b[0m\u001b[1;33m\u001b[0m\u001b[0m\n\u001b[1;32m---> 26\u001b[1;33m     \u001b[0msolve\u001b[0m \u001b[1;33m=\u001b[0m \u001b[0mchole\u001b[0m\u001b[1;33m(\u001b[0m\u001b[0ma\u001b[0m\u001b[1;33m[\u001b[0m\u001b[0mi\u001b[0m\u001b[1;33m]\u001b[0m\u001b[1;33m,\u001b[0m\u001b[0mb\u001b[0m\u001b[1;33m[\u001b[0m\u001b[0mi\u001b[0m\u001b[1;33m]\u001b[0m\u001b[1;33m)\u001b[0m\u001b[1;33m\u001b[0m\u001b[1;33m\u001b[0m\u001b[0m\n\u001b[0m\u001b[0;32m     27\u001b[0m     \u001b[0mresults\u001b[0m \u001b[1;33m+=\u001b[0m \u001b[0mx\u001b[0m \u001b[1;33m-\u001b[0m \u001b[0msolve\u001b[0m\u001b[1;33m\u001b[0m\u001b[1;33m\u001b[0m\u001b[0m\n\u001b[0;32m     28\u001b[0m     \u001b[0mnum\u001b[0m \u001b[1;33m=\u001b[0m\u001b[1;33m+\u001b[0m \u001b[1;36m1\u001b[0m\u001b[1;33m\u001b[0m\u001b[1;33m\u001b[0m\u001b[0m\n",
      "\u001b[1;32m<ipython-input-58-251d11fcae9e>\u001b[0m in \u001b[0;36mchole\u001b[1;34m(a, b)\u001b[0m\n\u001b[0;32m      1\u001b[0m \u001b[1;32mdef\u001b[0m \u001b[0mchole\u001b[0m\u001b[1;33m(\u001b[0m\u001b[0ma\u001b[0m\u001b[1;33m,\u001b[0m\u001b[0mb\u001b[0m\u001b[1;33m)\u001b[0m\u001b[1;33m:\u001b[0m\u001b[1;33m\u001b[0m\u001b[1;33m\u001b[0m\u001b[0m\n\u001b[1;32m----> 2\u001b[1;33m     \u001b[0mL\u001b[0m \u001b[1;33m=\u001b[0m \u001b[0mnp\u001b[0m\u001b[1;33m.\u001b[0m\u001b[0mlinalg\u001b[0m\u001b[1;33m.\u001b[0m\u001b[0mcholesky\u001b[0m\u001b[1;33m(\u001b[0m\u001b[0ma\u001b[0m\u001b[1;33m)\u001b[0m\u001b[1;33m\u001b[0m\u001b[1;33m\u001b[0m\u001b[0m\n\u001b[0m\u001b[0;32m      3\u001b[0m     \u001b[0mU\u001b[0m \u001b[1;33m=\u001b[0m \u001b[0mnp\u001b[0m\u001b[1;33m.\u001b[0m\u001b[0mtranspose\u001b[0m\u001b[1;33m(\u001b[0m\u001b[0mL\u001b[0m\u001b[1;33m)\u001b[0m\u001b[1;33m\u001b[0m\u001b[1;33m\u001b[0m\u001b[0m\n\u001b[0;32m      4\u001b[0m     \u001b[0mnsize\u001b[0m \u001b[1;33m=\u001b[0m \u001b[0mlen\u001b[0m\u001b[1;33m(\u001b[0m\u001b[0ma\u001b[0m\u001b[1;33m)\u001b[0m\u001b[1;33m\u001b[0m\u001b[1;33m\u001b[0m\u001b[0m\n\u001b[0;32m      5\u001b[0m \u001b[1;33m\u001b[0m\u001b[0m\n",
      "\u001b[1;32mc:\\users\\user\\appdata\\local\\programs\\python\\python36\\lib\\site-packages\\numpy\\linalg\\linalg.py\u001b[0m in \u001b[0;36mcholesky\u001b[1;34m(a)\u001b[0m\n\u001b[0;32m    757\u001b[0m     \u001b[0mt\u001b[0m\u001b[1;33m,\u001b[0m \u001b[0mresult_t\u001b[0m \u001b[1;33m=\u001b[0m \u001b[0m_commonType\u001b[0m\u001b[1;33m(\u001b[0m\u001b[0ma\u001b[0m\u001b[1;33m)\u001b[0m\u001b[1;33m\u001b[0m\u001b[1;33m\u001b[0m\u001b[0m\n\u001b[0;32m    758\u001b[0m     \u001b[0msignature\u001b[0m \u001b[1;33m=\u001b[0m \u001b[1;34m'D->D'\u001b[0m \u001b[1;32mif\u001b[0m \u001b[0misComplexType\u001b[0m\u001b[1;33m(\u001b[0m\u001b[0mt\u001b[0m\u001b[1;33m)\u001b[0m \u001b[1;32melse\u001b[0m \u001b[1;34m'd->d'\u001b[0m\u001b[1;33m\u001b[0m\u001b[1;33m\u001b[0m\u001b[0m\n\u001b[1;32m--> 759\u001b[1;33m     \u001b[0mr\u001b[0m \u001b[1;33m=\u001b[0m \u001b[0mgufunc\u001b[0m\u001b[1;33m(\u001b[0m\u001b[0ma\u001b[0m\u001b[1;33m,\u001b[0m \u001b[0msignature\u001b[0m\u001b[1;33m=\u001b[0m\u001b[0msignature\u001b[0m\u001b[1;33m,\u001b[0m \u001b[0mextobj\u001b[0m\u001b[1;33m=\u001b[0m\u001b[0mextobj\u001b[0m\u001b[1;33m)\u001b[0m\u001b[1;33m\u001b[0m\u001b[1;33m\u001b[0m\u001b[0m\n\u001b[0m\u001b[0;32m    760\u001b[0m     \u001b[1;32mreturn\u001b[0m \u001b[0mwrap\u001b[0m\u001b[1;33m(\u001b[0m\u001b[0mr\u001b[0m\u001b[1;33m.\u001b[0m\u001b[0mastype\u001b[0m\u001b[1;33m(\u001b[0m\u001b[0mresult_t\u001b[0m\u001b[1;33m,\u001b[0m \u001b[0mcopy\u001b[0m\u001b[1;33m=\u001b[0m\u001b[1;32mFalse\u001b[0m\u001b[1;33m)\u001b[0m\u001b[1;33m)\u001b[0m\u001b[1;33m\u001b[0m\u001b[1;33m\u001b[0m\u001b[0m\n\u001b[0;32m    761\u001b[0m \u001b[1;33m\u001b[0m\u001b[0m\n",
      "\u001b[1;32mc:\\users\\user\\appdata\\local\\programs\\python\\python36\\lib\\site-packages\\numpy\\linalg\\linalg.py\u001b[0m in \u001b[0;36m_raise_linalgerror_nonposdef\u001b[1;34m(err, flag)\u001b[0m\n\u001b[0;32m     98\u001b[0m \u001b[1;33m\u001b[0m\u001b[0m\n\u001b[0;32m     99\u001b[0m \u001b[1;32mdef\u001b[0m \u001b[0m_raise_linalgerror_nonposdef\u001b[0m\u001b[1;33m(\u001b[0m\u001b[0merr\u001b[0m\u001b[1;33m,\u001b[0m \u001b[0mflag\u001b[0m\u001b[1;33m)\u001b[0m\u001b[1;33m:\u001b[0m\u001b[1;33m\u001b[0m\u001b[1;33m\u001b[0m\u001b[0m\n\u001b[1;32m--> 100\u001b[1;33m     \u001b[1;32mraise\u001b[0m \u001b[0mLinAlgError\u001b[0m\u001b[1;33m(\u001b[0m\u001b[1;34m\"Matrix is not positive definite\"\u001b[0m\u001b[1;33m)\u001b[0m\u001b[1;33m\u001b[0m\u001b[1;33m\u001b[0m\u001b[0m\n\u001b[0m\u001b[0;32m    101\u001b[0m \u001b[1;33m\u001b[0m\u001b[0m\n\u001b[0;32m    102\u001b[0m \u001b[1;32mdef\u001b[0m \u001b[0m_raise_linalgerror_eigenvalues_nonconvergence\u001b[0m\u001b[1;33m(\u001b[0m\u001b[0merr\u001b[0m\u001b[1;33m,\u001b[0m \u001b[0mflag\u001b[0m\u001b[1;33m)\u001b[0m\u001b[1;33m:\u001b[0m\u001b[1;33m\u001b[0m\u001b[1;33m\u001b[0m\u001b[0m\n",
      "\u001b[1;31mLinAlgError\u001b[0m: Matrix is not positive definite"
     ]
    }
   ],
   "source": [
    "a, b = [], []\n",
    "\n",
    "A = np.array([[0.,0.,0.,0.],[0.,0.,0.,0.],[0.,0.,0.,0.],[0.,0.,0.,0.]])\n",
    "\n",
    "# Make 10 random array b\n",
    "for i in range(0,10):\n",
    "    b.append(np.random.random(4))\n",
    "\n",
    "for i in range(0,10):\n",
    "    a_sample = np.random.random(10)\n",
    "\n",
    "    for j in range(0,4):\n",
    "        A[3-j,0:4-j] = a_sample[j*(4-j):(j+1)*(4-j)]\n",
    "    for j in range(0,4):\n",
    "        for k in range(0,4):\n",
    "            A[j,3-k] = A[3-k,j]\n",
    "\n",
    "    a.append(A)\n",
    "\n",
    "\n",
    "print (A)\n",
    "num = 0\n",
    "results = np.zeros(4)\n",
    "for i in range(0,10):\n",
    "    x = np.linalg.solve(a[i],b[i])\n",
    "    solve = chole(a[i],b[i])\n",
    "    results += x - solve\n",
    "    num =+ 1\n",
    "\n",
    "print(results/num)"
   ]
  },
  {
   "cell_type": "code",
   "execution_count": 73,
   "metadata": {},
   "outputs": [
    {
     "data": {
      "text/plain": [
       "array([ 1., -2.,  3.])"
      ]
     },
     "execution_count": 73,
     "metadata": {},
     "output_type": "execute_result"
    }
   ],
   "source": [
    "chole(a,b)"
   ]
  },
  {
   "cell_type": "code",
   "execution_count": 87,
   "metadata": {},
   "outputs": [
    {
     "data": {
      "text/plain": [
       "array([[0.19436197, 0.46588366, 0.19436197, 0.67247225],\n",
       "       [0.46588366, 0.07667427, 0.46588366, 0.38763775],\n",
       "       [0.19436197, 0.46588366, 0.07667427, 0.75768125],\n",
       "       [0.67247225, 0.38763775, 0.75768125, 0.19436197]])"
      ]
     },
     "execution_count": 87,
     "metadata": {},
     "output_type": "execute_result"
    }
   ],
   "source": [
    "A"
   ]
  },
  {
   "cell_type": "code",
   "execution_count": 88,
   "metadata": {},
   "outputs": [
    {
     "ename": "LinAlgError",
     "evalue": "Matrix is not positive definite",
     "output_type": "error",
     "traceback": [
      "\u001b[1;31m---------------------------------------------------------------------------\u001b[0m",
      "\u001b[1;31mLinAlgError\u001b[0m                               Traceback (most recent call last)",
      "\u001b[1;32m<ipython-input-88-25af16d762db>\u001b[0m in \u001b[0;36m<module>\u001b[1;34m\u001b[0m\n\u001b[1;32m----> 1\u001b[1;33m \u001b[0mnp\u001b[0m\u001b[1;33m.\u001b[0m\u001b[0mlinalg\u001b[0m\u001b[1;33m.\u001b[0m\u001b[0mcholesky\u001b[0m\u001b[1;33m(\u001b[0m\u001b[0mA\u001b[0m\u001b[1;33m)\u001b[0m\u001b[1;33m\u001b[0m\u001b[1;33m\u001b[0m\u001b[0m\n\u001b[0m",
      "\u001b[1;32mc:\\users\\user\\appdata\\local\\programs\\python\\python36\\lib\\site-packages\\numpy\\linalg\\linalg.py\u001b[0m in \u001b[0;36mcholesky\u001b[1;34m(a)\u001b[0m\n\u001b[0;32m    757\u001b[0m     \u001b[0mt\u001b[0m\u001b[1;33m,\u001b[0m \u001b[0mresult_t\u001b[0m \u001b[1;33m=\u001b[0m \u001b[0m_commonType\u001b[0m\u001b[1;33m(\u001b[0m\u001b[0ma\u001b[0m\u001b[1;33m)\u001b[0m\u001b[1;33m\u001b[0m\u001b[1;33m\u001b[0m\u001b[0m\n\u001b[0;32m    758\u001b[0m     \u001b[0msignature\u001b[0m \u001b[1;33m=\u001b[0m \u001b[1;34m'D->D'\u001b[0m \u001b[1;32mif\u001b[0m \u001b[0misComplexType\u001b[0m\u001b[1;33m(\u001b[0m\u001b[0mt\u001b[0m\u001b[1;33m)\u001b[0m \u001b[1;32melse\u001b[0m \u001b[1;34m'd->d'\u001b[0m\u001b[1;33m\u001b[0m\u001b[1;33m\u001b[0m\u001b[0m\n\u001b[1;32m--> 759\u001b[1;33m     \u001b[0mr\u001b[0m \u001b[1;33m=\u001b[0m \u001b[0mgufunc\u001b[0m\u001b[1;33m(\u001b[0m\u001b[0ma\u001b[0m\u001b[1;33m,\u001b[0m \u001b[0msignature\u001b[0m\u001b[1;33m=\u001b[0m\u001b[0msignature\u001b[0m\u001b[1;33m,\u001b[0m \u001b[0mextobj\u001b[0m\u001b[1;33m=\u001b[0m\u001b[0mextobj\u001b[0m\u001b[1;33m)\u001b[0m\u001b[1;33m\u001b[0m\u001b[1;33m\u001b[0m\u001b[0m\n\u001b[0m\u001b[0;32m    760\u001b[0m     \u001b[1;32mreturn\u001b[0m \u001b[0mwrap\u001b[0m\u001b[1;33m(\u001b[0m\u001b[0mr\u001b[0m\u001b[1;33m.\u001b[0m\u001b[0mastype\u001b[0m\u001b[1;33m(\u001b[0m\u001b[0mresult_t\u001b[0m\u001b[1;33m,\u001b[0m \u001b[0mcopy\u001b[0m\u001b[1;33m=\u001b[0m\u001b[1;32mFalse\u001b[0m\u001b[1;33m)\u001b[0m\u001b[1;33m)\u001b[0m\u001b[1;33m\u001b[0m\u001b[1;33m\u001b[0m\u001b[0m\n\u001b[0;32m    761\u001b[0m \u001b[1;33m\u001b[0m\u001b[0m\n",
      "\u001b[1;32mc:\\users\\user\\appdata\\local\\programs\\python\\python36\\lib\\site-packages\\numpy\\linalg\\linalg.py\u001b[0m in \u001b[0;36m_raise_linalgerror_nonposdef\u001b[1;34m(err, flag)\u001b[0m\n\u001b[0;32m     98\u001b[0m \u001b[1;33m\u001b[0m\u001b[0m\n\u001b[0;32m     99\u001b[0m \u001b[1;32mdef\u001b[0m \u001b[0m_raise_linalgerror_nonposdef\u001b[0m\u001b[1;33m(\u001b[0m\u001b[0merr\u001b[0m\u001b[1;33m,\u001b[0m \u001b[0mflag\u001b[0m\u001b[1;33m)\u001b[0m\u001b[1;33m:\u001b[0m\u001b[1;33m\u001b[0m\u001b[1;33m\u001b[0m\u001b[0m\n\u001b[1;32m--> 100\u001b[1;33m     \u001b[1;32mraise\u001b[0m \u001b[0mLinAlgError\u001b[0m\u001b[1;33m(\u001b[0m\u001b[1;34m\"Matrix is not positive definite\"\u001b[0m\u001b[1;33m)\u001b[0m\u001b[1;33m\u001b[0m\u001b[1;33m\u001b[0m\u001b[0m\n\u001b[0m\u001b[0;32m    101\u001b[0m \u001b[1;33m\u001b[0m\u001b[0m\n\u001b[0;32m    102\u001b[0m \u001b[1;32mdef\u001b[0m \u001b[0m_raise_linalgerror_eigenvalues_nonconvergence\u001b[0m\u001b[1;33m(\u001b[0m\u001b[0merr\u001b[0m\u001b[1;33m,\u001b[0m \u001b[0mflag\u001b[0m\u001b[1;33m)\u001b[0m\u001b[1;33m:\u001b[0m\u001b[1;33m\u001b[0m\u001b[1;33m\u001b[0m\u001b[0m\n",
      "\u001b[1;31mLinAlgError\u001b[0m: Matrix is not positive definite"
     ]
    }
   ],
   "source": [
    "np.linalg.cholesky(A)"
   ]
  },
  {
   "cell_type": "code",
   "execution_count": null,
   "metadata": {},
   "outputs": [],
   "source": []
  }
 ],
 "metadata": {
  "kernelspec": {
   "display_name": "Python 3",
   "language": "python",
   "name": "python3"
  },
  "language_info": {
   "codemirror_mode": {
    "name": "ipython",
    "version": 3
   },
   "file_extension": ".py",
   "mimetype": "text/x-python",
   "name": "python",
   "nbconvert_exporter": "python",
   "pygments_lexer": "ipython3",
   "version": "3.6.8"
  }
 },
 "nbformat": 4,
 "nbformat_minor": 2
}
