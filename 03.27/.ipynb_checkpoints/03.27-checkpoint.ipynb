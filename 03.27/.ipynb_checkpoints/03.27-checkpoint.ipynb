{
 "cells": [
  {
   "cell_type": "code",
   "execution_count": 49,
   "metadata": {},
   "outputs": [],
   "source": [
    "import numpy as np\n",
    "\n",
    "def map_array(f,li):\n",
    "    aa = []\n",
    "    for i in map(f,li):\n",
    "        aa.append(i)\n",
    "    return np.array(aa)"
   ]
  },
  {
   "cell_type": "code",
   "execution_count": 50,
   "metadata": {},
   "outputs": [],
   "source": [
    "a = np.array([[ 4,-2, 1],\n",
    "              [-2, 4,-2],\n",
    "              [ 1,-2, 4]])\n",
    "b = np.array([11,-16,17])\n",
    "x = np.linalg.solve(a,b)\n",
    "ainv = np.linalg.inv(a)"
   ]
  },
  {
   "cell_type": "code",
   "execution_count": 51,
   "metadata": {},
   "outputs": [
    {
     "data": {
      "text/plain": [
       "array([ 1., -2.,  3.])"
      ]
     },
     "execution_count": 51,
     "metadata": {},
     "output_type": "execute_result"
    }
   ],
   "source": [
    "x"
   ]
  },
  {
   "cell_type": "code",
   "execution_count": 52,
   "metadata": {},
   "outputs": [
    {
     "data": {
      "text/plain": [
       "array([ 11., -16.,  17.])"
      ]
     },
     "execution_count": 52,
     "metadata": {},
     "output_type": "execute_result"
    }
   ],
   "source": [
    "np.matmul(a,x)"
   ]
  },
  {
   "cell_type": "code",
   "execution_count": 53,
   "metadata": {},
   "outputs": [
    {
     "data": {
      "text/plain": [
       "array([[0.33333333, 0.16666667, 0.        ],\n",
       "       [0.16666667, 0.41666667, 0.16666667],\n",
       "       [0.        , 0.16666667, 0.33333333]])"
      ]
     },
     "execution_count": 53,
     "metadata": {},
     "output_type": "execute_result"
    }
   ],
   "source": [
    "ainv"
   ]
  },
  {
   "cell_type": "code",
   "execution_count": 54,
   "metadata": {},
   "outputs": [
    {
     "data": {
      "text/plain": [
       "array([ 1., -2.,  3.])"
      ]
     },
     "execution_count": 54,
     "metadata": {},
     "output_type": "execute_result"
    }
   ],
   "source": [
    "np.matmul(ainv,b)"
   ]
  },
  {
   "cell_type": "code",
   "execution_count": 55,
   "metadata": {},
   "outputs": [
    {
     "data": {
      "text/plain": [
       "array([ 4, -2,  1])"
      ]
     },
     "execution_count": 55,
     "metadata": {},
     "output_type": "execute_result"
    }
   ],
   "source": [
    "a[0,0:3]"
   ]
  },
  {
   "cell_type": "code",
   "execution_count": 153,
   "metadata": {
    "scrolled": false
   },
   "outputs": [
    {
     "name": "stdout",
     "output_type": "stream",
     "text": [
      "[[ 4.  -2.   1. ]\n",
      " [ 0.   3.  -1.5]\n",
      " [ 0.   0.   3. ]] \n",
      "\n",
      " [0. 0. 3.]\n"
     ]
    }
   ],
   "source": [
    "# Initializing parameters\n",
    "ipiv    = 0\n",
    "nsize   = 3\n",
    "bb      = np.zeros(nsize)\n",
    "d = []\n",
    "\n",
    "for i in range(0,nsize):\n",
    "    d.append(bb) \n",
    "d = np.array(d)\n",
    "d[0] = a[0]\n",
    "\n",
    "#for rnum in range(1,nsize):\n",
    "#    lam     = a[ipiv+rnum,ipiv]/a[ipiv,ipiv]\n",
    "#    c       = a[ipiv+rnum,0:nsize] - lam * a[ipiv,0:nsize]\n",
    "#    d[rnum] = c\n",
    "\n",
    "# Second row\n",
    "rnum    = 1\n",
    "lam     = a[ipiv+rnum,ipiv]/a[ipiv,ipiv]\n",
    "c       = a[ipiv+rnum,0:nsize] - lam * a[ipiv,0:nsize]\n",
    "d[1] = c\n",
    "\n",
    "# Third row\n",
    "rnum    = 2\n",
    "lam     = a[ipiv+rnum,ipiv]/a[ipiv,ipiv]\n",
    "c       = a[ipiv+rnum,0:nsize] - lam * a[ipiv,0:nsize]\n",
    "d[2] = c\n",
    "\n",
    "# Second\n",
    "ipiv    = 1\n",
    "\n",
    "rnum    = 2\n",
    "lam     = d[rnum,ipiv]/d[ipiv,ipiv]\n",
    "c       = d[rnum,0:nsize] - lam * d[ipiv,0:nsize]\n",
    "d[rnum] = c\n",
    "\n",
    "print(d,'\\n\\n',c)"
   ]
  },
  {
   "cell_type": "code",
   "execution_count": 192,
   "metadata": {},
   "outputs": [
    {
     "ename": "ValueError",
     "evalue": "could not broadcast input array from shape (3) into shape (1)",
     "output_type": "error",
     "traceback": [
      "\u001b[0;31m---------------------------------------------------------------------------\u001b[0m",
      "\u001b[0;31mValueError\u001b[0m                                Traceback (most recent call last)",
      "\u001b[0;32m<ipython-input-192-101a1d3d9040>\u001b[0m in \u001b[0;36m<module>\u001b[0;34m\u001b[0m\n\u001b[1;32m     19\u001b[0m         \u001b[0mlam\u001b[0m     \u001b[0;34m=\u001b[0m \u001b[0ma\u001b[0m\u001b[0;34m[\u001b[0m\u001b[0mrnum\u001b[0m\u001b[0;34m,\u001b[0m\u001b[0mipiv\u001b[0m\u001b[0;34m]\u001b[0m\u001b[0;34m/\u001b[0m\u001b[0ma\u001b[0m\u001b[0;34m[\u001b[0m\u001b[0mipiv\u001b[0m\u001b[0;34m,\u001b[0m\u001b[0mipiv\u001b[0m\u001b[0;34m]\u001b[0m\u001b[0;34m\u001b[0m\u001b[0m\n\u001b[1;32m     20\u001b[0m         \u001b[0mc\u001b[0m       \u001b[0;34m=\u001b[0m \u001b[0ma\u001b[0m\u001b[0;34m[\u001b[0m\u001b[0mipiv\u001b[0m\u001b[0;34m+\u001b[0m\u001b[0mrnum\u001b[0m\u001b[0;34m,\u001b[0m\u001b[0;36m0\u001b[0m\u001b[0;34m:\u001b[0m\u001b[0mnsize\u001b[0m\u001b[0;34m]\u001b[0m \u001b[0;34m-\u001b[0m \u001b[0mlam\u001b[0m \u001b[0;34m*\u001b[0m \u001b[0ma\u001b[0m\u001b[0;34m[\u001b[0m\u001b[0mipiv\u001b[0m\u001b[0;34m,\u001b[0m\u001b[0;36m0\u001b[0m\u001b[0;34m:\u001b[0m\u001b[0mnsize\u001b[0m\u001b[0;34m]\u001b[0m\u001b[0;34m\u001b[0m\u001b[0m\n\u001b[0;32m---> 21\u001b[0;31m         \u001b[0md\u001b[0m\u001b[0;34m[\u001b[0m\u001b[0mipiv\u001b[0m\u001b[0;34m+\u001b[0m\u001b[0mrnum\u001b[0m\u001b[0;34m,\u001b[0m\u001b[0mipiv\u001b[0m\u001b[0;34m:\u001b[0m\u001b[0mnsize\u001b[0m\u001b[0;34m-\u001b[0m\u001b[0mipiv\u001b[0m\u001b[0;34m]\u001b[0m \u001b[0;34m=\u001b[0m \u001b[0mc\u001b[0m\u001b[0;34m\u001b[0m\u001b[0m\n\u001b[0m\u001b[1;32m     22\u001b[0m \u001b[0;34m\u001b[0m\u001b[0m\n\u001b[1;32m     23\u001b[0m \u001b[0md\u001b[0m\u001b[0;34m\u001b[0m\u001b[0m\n",
      "\u001b[0;31mValueError\u001b[0m: could not broadcast input array from shape (3) into shape (1)"
     ]
    }
   ],
   "source": [
    "# Initializing parameters\n",
    "nsize   = 3\n",
    "bb      = np.zeros(nsize)\n",
    "d = []\n",
    "\n",
    "for i in range(0,nsize):\n",
    "    d.append(bb) \n",
    "d = np.array(d)\n",
    "d[0] = a[0]\n",
    "\n",
    "#for rnum in range(1,nsize):\n",
    "#    lam     = a[ipiv+rnum,ipiv]/a[ipiv,ipiv]\n",
    "#    c       = a[ipiv+rnum,0:nsize] - lam * a[ipiv,0:nsize]\n",
    "#    d[rnum] = c\n",
    "\n",
    "for ipiv in range(0,nsize-1):\n",
    "    for rnum in range(ipiv,nsize):\n",
    "        lam     = a[rnum,ipiv]/a[ipiv,ipiv]\n",
    "        c       = a[ipiv+rnum,0:nsize] - lam * a[ipiv,0:nsize]\n",
    "        d[rnum] = c\n",
    "        \n",
    "d\n"
   ]
  },
  {
   "cell_type": "code",
   "execution_count": 191,
   "metadata": {},
   "outputs": [],
   "source": [
    "chole  = np.linalg.cholesky(a)\n",
    "cholet = np.transpose(chole)\n",
    "amat   = np.matmul(chole,cholet)"
   ]
  },
  {
   "cell_type": "code",
   "execution_count": 172,
   "metadata": {},
   "outputs": [
    {
     "data": {
      "text/plain": [
       "array([[ 2.        ,  0.        ,  0.        ],\n",
       "       [-1.        ,  1.73205081,  0.        ],\n",
       "       [ 0.5       , -0.8660254 ,  1.73205081]])"
      ]
     },
     "execution_count": 172,
     "metadata": {},
     "output_type": "execute_result"
    }
   ],
   "source": [
    "chole"
   ]
  },
  {
   "cell_type": "code",
   "execution_count": 122,
   "metadata": {},
   "outputs": [
    {
     "data": {
      "text/plain": [
       "array([[ 2.        , -1.        ,  0.5       ],\n",
       "       [ 0.        ,  1.73205081, -0.8660254 ],\n",
       "       [ 0.        ,  0.        ,  1.73205081]])"
      ]
     },
     "execution_count": 122,
     "metadata": {},
     "output_type": "execute_result"
    }
   ],
   "source": [
    "cholet"
   ]
  },
  {
   "cell_type": "code",
   "execution_count": 123,
   "metadata": {},
   "outputs": [
    {
     "data": {
      "text/plain": [
       "array([[ 4., -2.,  1.],\n",
       "       [-2.,  4., -2.],\n",
       "       [ 1., -2.,  4.]])"
      ]
     },
     "execution_count": 123,
     "metadata": {},
     "output_type": "execute_result"
    }
   ],
   "source": [
    "amat"
   ]
  },
  {
   "cell_type": "code",
   "execution_count": 161,
   "metadata": {},
   "outputs": [],
   "source": [
    "# Use the Cholesky matrix to obtain y, and then x"
   ]
  },
  {
   "cell_type": "code",
   "execution_count": 195,
   "metadata": {},
   "outputs": [],
   "source": [
    "chole  = np.linalg.cholesky(a)\n",
    "cholet = np.transpose(chole)\n",
    "amat   = np.matmul(chole,cholet)\n",
    "\n",
    "# L*y = b\n",
    "ys = np.zeros(nsize)\n",
    "ys[0] = b[0]/chole[0,0]\n",
    "ys[1] = ( b[1] - chole[1,0]*ys[0] ) / chole[1,1]\n",
    "ys[2] = ( b[2] - chole[2,0]*ys[0] - chole[2,1]*ys[1]) / chole[2,2]\n",
    "\n",
    "# U*x = y\n",
    "xs    = np.zeros(nsize)\n",
    "xs[2] = ys[2]/cholet[2,2]\n",
    "xs[1] = ( ys[1] - cholet[1,2]*xs[2] ) / chole[1,1]\n",
    "xs[0] = ( ys[0] - cholet[0,2]*xs[2] - chole[0,1]*xs[1]) / cholet[0,0]\n"
   ]
  },
  {
   "cell_type": "code",
   "execution_count": 196,
   "metadata": {},
   "outputs": [
    {
     "data": {
      "text/plain": [
       "array([ 11, -16,  17])"
      ]
     },
     "execution_count": 196,
     "metadata": {},
     "output_type": "execute_result"
    }
   ],
   "source": [
    "b"
   ]
  },
  {
   "cell_type": "code",
   "execution_count": 197,
   "metadata": {},
   "outputs": [
    {
     "data": {
      "text/plain": [
       "array([[ 4, -2,  1],\n",
       "       [-2,  4, -2],\n",
       "       [ 1, -2,  4]])"
      ]
     },
     "execution_count": 197,
     "metadata": {},
     "output_type": "execute_result"
    }
   ],
   "source": [
    "a"
   ]
  },
  {
   "cell_type": "code",
   "execution_count": 198,
   "metadata": {
    "scrolled": true
   },
   "outputs": [
    {
     "data": {
      "text/plain": [
       "array([ 5.5       , -6.06217783,  5.19615242])"
      ]
     },
     "execution_count": 198,
     "metadata": {},
     "output_type": "execute_result"
    }
   ],
   "source": [
    "np.linalg.solve(chole,b)"
   ]
  },
  {
   "cell_type": "code",
   "execution_count": 199,
   "metadata": {},
   "outputs": [
    {
     "data": {
      "text/plain": [
       "array([ 5.5       , -6.06217783,  5.19615242])"
      ]
     },
     "execution_count": 199,
     "metadata": {},
     "output_type": "execute_result"
    }
   ],
   "source": [
    "ys"
   ]
  },
  {
   "cell_type": "code",
   "execution_count": 200,
   "metadata": {
    "scrolled": true
   },
   "outputs": [
    {
     "data": {
      "text/plain": [
       "array([ 1., -2.,  3.])"
      ]
     },
     "execution_count": 200,
     "metadata": {},
     "output_type": "execute_result"
    }
   ],
   "source": [
    "np.linalg.solve(a,b)"
   ]
  },
  {
   "cell_type": "code",
   "execution_count": 201,
   "metadata": {},
   "outputs": [
    {
     "data": {
      "text/plain": [
       "array([ 2., -2.,  3.])"
      ]
     },
     "execution_count": 201,
     "metadata": {},
     "output_type": "execute_result"
    }
   ],
   "source": [
    "xs"
   ]
  }
 ],
 "metadata": {
  "kernelspec": {
   "display_name": "Python 3",
   "language": "python",
   "name": "python3"
  },
  "language_info": {
   "codemirror_mode": {
    "name": "ipython",
    "version": 3
   },
   "file_extension": ".py",
   "mimetype": "text/x-python",
   "name": "python",
   "nbconvert_exporter": "python",
   "pygments_lexer": "ipython3",
   "version": "3.5.2"
  }
 },
 "nbformat": 4,
 "nbformat_minor": 2
}
